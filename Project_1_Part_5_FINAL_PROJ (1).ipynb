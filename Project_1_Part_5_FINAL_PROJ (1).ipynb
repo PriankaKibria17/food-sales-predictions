{
  "nbformat": 4,
  "nbformat_minor": 0,
  "metadata": {
    "colab": {
      "name": "Project 1 Part 5/FINAL PROJ.ipynb",
      "provenance": [],
      "collapsed_sections": []
    },
    "kernelspec": {
      "name": "python3",
      "display_name": "Python 3"
    },
    "language_info": {
      "name": "python"
    }
  },
  "cells": [
    {
      "cell_type": "markdown",
      "source": [
        "Prianka Kibria \n",
        "\n",
        "3.25.22"
      ],
      "metadata": {
        "id": "9qYn6mOtKKKf"
      }
    },
    {
      "cell_type": "markdown",
      "source": [
        "We will continue to work on your sales prediction project. The goal of this step is to help the retailer by using machine learning to make predictions about future sales based on the data provided.\n",
        "\n",
        "For Part 5, you will go back to your original dataset with the goal of preventing data leakage.  \n",
        "\n",
        "Please note: If you imputed missing values based on a calculation on the entire dataset (such as mean), you should now perform that step after the train test split using SimpleImputer.  \n",
        "\n",
        "Identify the target (X) and features (y): \n",
        "\n",
        "Assign the \"Item_Outlet_Sales\" column as your target and the rest of the relevant variables as your features matrix.  \n",
        "\n",
        "Perform a train test split \n",
        "\n",
        "Create a pre processing pipeline to prepare the dataset for Machine Learning"
      ],
      "metadata": {
        "id": "v0h_JQCMKN-u"
      }
    },
    {
      "cell_type": "code",
      "source": [
        "import pandas as pd\n",
        "import numpy as np\n",
        "from sklearn.model_selection import train_test_split\n",
        "from sklearn.compose import make_column_selector, make_column_transformer\n",
        "from sklearn.preprocessing import StandardScaler, OneHotEncoder, LabelEncoder\n",
        "from sklearn.pipeline import make_pipeline\n",
        "from sklearn.impute import SimpleImputer\n",
        "from sklearn import set_config\n",
        "from sklearn import preprocessing"
      ],
      "metadata": {
        "id": "CdqSABSZMEh1"
      },
      "execution_count": null,
      "outputs": []
    },
    {
      "cell_type": "code",
      "source": [
        "set_config(display='diagram')"
      ],
      "metadata": {
        "id": "rcGCC5XnQp8p"
      },
      "execution_count": null,
      "outputs": []
    },
    {
      "cell_type": "code",
      "source": [
        "path = ('/content/drive/MyDrive/data/sales_predictions.csv')\n",
        "df = pd.read_csv(path)\n",
        "df.head()"
      ],
      "metadata": {
        "colab": {
          "base_uri": "https://localhost:8080/",
          "height": 357
        },
        "id": "NXwdKygJMMpu",
        "outputId": "468becb7-85a9-4241-a524-03c03bab829f"
      },
      "execution_count": null,
      "outputs": [
        {
          "output_type": "execute_result",
          "data": {
            "text/plain": [
              "  Item_Identifier  Item_Weight Item_Fat_Content  Item_Visibility  \\\n",
              "0           FDA15         9.30          Low Fat         0.016047   \n",
              "1           DRC01         5.92          Regular         0.019278   \n",
              "2           FDN15        17.50          Low Fat         0.016760   \n",
              "3           FDX07        19.20          Regular         0.000000   \n",
              "4           NCD19         8.93          Low Fat         0.000000   \n",
              "\n",
              "               Item_Type  Item_MRP Outlet_Identifier  \\\n",
              "0                  Dairy  249.8092            OUT049   \n",
              "1            Soft Drinks   48.2692            OUT018   \n",
              "2                   Meat  141.6180            OUT049   \n",
              "3  Fruits and Vegetables  182.0950            OUT010   \n",
              "4              Household   53.8614            OUT013   \n",
              "\n",
              "   Outlet_Establishment_Year Outlet_Size Outlet_Location_Type  \\\n",
              "0                       1999      Medium               Tier 1   \n",
              "1                       2009      Medium               Tier 3   \n",
              "2                       1999      Medium               Tier 1   \n",
              "3                       1998         NaN               Tier 3   \n",
              "4                       1987        High               Tier 3   \n",
              "\n",
              "         Outlet_Type  Item_Outlet_Sales  \n",
              "0  Supermarket Type1          3735.1380  \n",
              "1  Supermarket Type2           443.4228  \n",
              "2  Supermarket Type1          2097.2700  \n",
              "3      Grocery Store           732.3800  \n",
              "4  Supermarket Type1           994.7052  "
            ],
            "text/html": [
              "\n",
              "  <div id=\"df-21b3317e-8162-478b-bec9-10337a28fd78\">\n",
              "    <div class=\"colab-df-container\">\n",
              "      <div>\n",
              "<style scoped>\n",
              "    .dataframe tbody tr th:only-of-type {\n",
              "        vertical-align: middle;\n",
              "    }\n",
              "\n",
              "    .dataframe tbody tr th {\n",
              "        vertical-align: top;\n",
              "    }\n",
              "\n",
              "    .dataframe thead th {\n",
              "        text-align: right;\n",
              "    }\n",
              "</style>\n",
              "<table border=\"1\" class=\"dataframe\">\n",
              "  <thead>\n",
              "    <tr style=\"text-align: right;\">\n",
              "      <th></th>\n",
              "      <th>Item_Identifier</th>\n",
              "      <th>Item_Weight</th>\n",
              "      <th>Item_Fat_Content</th>\n",
              "      <th>Item_Visibility</th>\n",
              "      <th>Item_Type</th>\n",
              "      <th>Item_MRP</th>\n",
              "      <th>Outlet_Identifier</th>\n",
              "      <th>Outlet_Establishment_Year</th>\n",
              "      <th>Outlet_Size</th>\n",
              "      <th>Outlet_Location_Type</th>\n",
              "      <th>Outlet_Type</th>\n",
              "      <th>Item_Outlet_Sales</th>\n",
              "    </tr>\n",
              "  </thead>\n",
              "  <tbody>\n",
              "    <tr>\n",
              "      <th>0</th>\n",
              "      <td>FDA15</td>\n",
              "      <td>9.30</td>\n",
              "      <td>Low Fat</td>\n",
              "      <td>0.016047</td>\n",
              "      <td>Dairy</td>\n",
              "      <td>249.8092</td>\n",
              "      <td>OUT049</td>\n",
              "      <td>1999</td>\n",
              "      <td>Medium</td>\n",
              "      <td>Tier 1</td>\n",
              "      <td>Supermarket Type1</td>\n",
              "      <td>3735.1380</td>\n",
              "    </tr>\n",
              "    <tr>\n",
              "      <th>1</th>\n",
              "      <td>DRC01</td>\n",
              "      <td>5.92</td>\n",
              "      <td>Regular</td>\n",
              "      <td>0.019278</td>\n",
              "      <td>Soft Drinks</td>\n",
              "      <td>48.2692</td>\n",
              "      <td>OUT018</td>\n",
              "      <td>2009</td>\n",
              "      <td>Medium</td>\n",
              "      <td>Tier 3</td>\n",
              "      <td>Supermarket Type2</td>\n",
              "      <td>443.4228</td>\n",
              "    </tr>\n",
              "    <tr>\n",
              "      <th>2</th>\n",
              "      <td>FDN15</td>\n",
              "      <td>17.50</td>\n",
              "      <td>Low Fat</td>\n",
              "      <td>0.016760</td>\n",
              "      <td>Meat</td>\n",
              "      <td>141.6180</td>\n",
              "      <td>OUT049</td>\n",
              "      <td>1999</td>\n",
              "      <td>Medium</td>\n",
              "      <td>Tier 1</td>\n",
              "      <td>Supermarket Type1</td>\n",
              "      <td>2097.2700</td>\n",
              "    </tr>\n",
              "    <tr>\n",
              "      <th>3</th>\n",
              "      <td>FDX07</td>\n",
              "      <td>19.20</td>\n",
              "      <td>Regular</td>\n",
              "      <td>0.000000</td>\n",
              "      <td>Fruits and Vegetables</td>\n",
              "      <td>182.0950</td>\n",
              "      <td>OUT010</td>\n",
              "      <td>1998</td>\n",
              "      <td>NaN</td>\n",
              "      <td>Tier 3</td>\n",
              "      <td>Grocery Store</td>\n",
              "      <td>732.3800</td>\n",
              "    </tr>\n",
              "    <tr>\n",
              "      <th>4</th>\n",
              "      <td>NCD19</td>\n",
              "      <td>8.93</td>\n",
              "      <td>Low Fat</td>\n",
              "      <td>0.000000</td>\n",
              "      <td>Household</td>\n",
              "      <td>53.8614</td>\n",
              "      <td>OUT013</td>\n",
              "      <td>1987</td>\n",
              "      <td>High</td>\n",
              "      <td>Tier 3</td>\n",
              "      <td>Supermarket Type1</td>\n",
              "      <td>994.7052</td>\n",
              "    </tr>\n",
              "  </tbody>\n",
              "</table>\n",
              "</div>\n",
              "      <button class=\"colab-df-convert\" onclick=\"convertToInteractive('df-21b3317e-8162-478b-bec9-10337a28fd78')\"\n",
              "              title=\"Convert this dataframe to an interactive table.\"\n",
              "              style=\"display:none;\">\n",
              "        \n",
              "  <svg xmlns=\"http://www.w3.org/2000/svg\" height=\"24px\"viewBox=\"0 0 24 24\"\n",
              "       width=\"24px\">\n",
              "    <path d=\"M0 0h24v24H0V0z\" fill=\"none\"/>\n",
              "    <path d=\"M18.56 5.44l.94 2.06.94-2.06 2.06-.94-2.06-.94-.94-2.06-.94 2.06-2.06.94zm-11 1L8.5 8.5l.94-2.06 2.06-.94-2.06-.94L8.5 2.5l-.94 2.06-2.06.94zm10 10l.94 2.06.94-2.06 2.06-.94-2.06-.94-.94-2.06-.94 2.06-2.06.94z\"/><path d=\"M17.41 7.96l-1.37-1.37c-.4-.4-.92-.59-1.43-.59-.52 0-1.04.2-1.43.59L10.3 9.45l-7.72 7.72c-.78.78-.78 2.05 0 2.83L4 21.41c.39.39.9.59 1.41.59.51 0 1.02-.2 1.41-.59l7.78-7.78 2.81-2.81c.8-.78.8-2.07 0-2.86zM5.41 20L4 18.59l7.72-7.72 1.47 1.35L5.41 20z\"/>\n",
              "  </svg>\n",
              "      </button>\n",
              "      \n",
              "  <style>\n",
              "    .colab-df-container {\n",
              "      display:flex;\n",
              "      flex-wrap:wrap;\n",
              "      gap: 12px;\n",
              "    }\n",
              "\n",
              "    .colab-df-convert {\n",
              "      background-color: #E8F0FE;\n",
              "      border: none;\n",
              "      border-radius: 50%;\n",
              "      cursor: pointer;\n",
              "      display: none;\n",
              "      fill: #1967D2;\n",
              "      height: 32px;\n",
              "      padding: 0 0 0 0;\n",
              "      width: 32px;\n",
              "    }\n",
              "\n",
              "    .colab-df-convert:hover {\n",
              "      background-color: #E2EBFA;\n",
              "      box-shadow: 0px 1px 2px rgba(60, 64, 67, 0.3), 0px 1px 3px 1px rgba(60, 64, 67, 0.15);\n",
              "      fill: #174EA6;\n",
              "    }\n",
              "\n",
              "    [theme=dark] .colab-df-convert {\n",
              "      background-color: #3B4455;\n",
              "      fill: #D2E3FC;\n",
              "    }\n",
              "\n",
              "    [theme=dark] .colab-df-convert:hover {\n",
              "      background-color: #434B5C;\n",
              "      box-shadow: 0px 1px 3px 1px rgba(0, 0, 0, 0.15);\n",
              "      filter: drop-shadow(0px 1px 2px rgba(0, 0, 0, 0.3));\n",
              "      fill: #FFFFFF;\n",
              "    }\n",
              "  </style>\n",
              "\n",
              "      <script>\n",
              "        const buttonEl =\n",
              "          document.querySelector('#df-21b3317e-8162-478b-bec9-10337a28fd78 button.colab-df-convert');\n",
              "        buttonEl.style.display =\n",
              "          google.colab.kernel.accessAllowed ? 'block' : 'none';\n",
              "\n",
              "        async function convertToInteractive(key) {\n",
              "          const element = document.querySelector('#df-21b3317e-8162-478b-bec9-10337a28fd78');\n",
              "          const dataTable =\n",
              "            await google.colab.kernel.invokeFunction('convertToInteractive',\n",
              "                                                     [key], {});\n",
              "          if (!dataTable) return;\n",
              "\n",
              "          const docLinkHtml = 'Like what you see? Visit the ' +\n",
              "            '<a target=\"_blank\" href=https://colab.research.google.com/notebooks/data_table.ipynb>data table notebook</a>'\n",
              "            + ' to learn more about interactive tables.';\n",
              "          element.innerHTML = '';\n",
              "          dataTable['output_type'] = 'display_data';\n",
              "          await google.colab.output.renderOutput(dataTable, element);\n",
              "          const docLink = document.createElement('div');\n",
              "          docLink.innerHTML = docLinkHtml;\n",
              "          element.appendChild(docLink);\n",
              "        }\n",
              "      </script>\n",
              "    </div>\n",
              "  </div>\n",
              "  "
            ]
          },
          "metadata": {},
          "execution_count": 3
        }
      ]
    },
    {
      "cell_type": "markdown",
      "source": [
        "* Outlet size - ordinal\n",
        "* Item Identifier - nominal\n",
        "* Item Weight - numeric\n",
        "* Item fat content - nominal\n",
        "* Item visibility - numeric\n",
        "* item type - nominal\n",
        "* item mrp - numeric\n",
        "* outlet identifier - nominal\n",
        "* outlet establishment yr - numeric\n",
        "* outlet loc type - nominal\n",
        "* outlet type - nominal\n",
        "* item outlet sales - numeric"
      ],
      "metadata": {
        "id": "rrhF6ZTmNURY"
      }
    },
    {
      "cell_type": "code",
      "source": [
        "df.info()"
      ],
      "metadata": {
        "colab": {
          "base_uri": "https://localhost:8080/"
        },
        "id": "GJW8ofGsNHjc",
        "outputId": "afc1ab38-3d9d-414e-e1f0-ba91d9e98750"
      },
      "execution_count": null,
      "outputs": [
        {
          "output_type": "stream",
          "name": "stdout",
          "text": [
            "<class 'pandas.core.frame.DataFrame'>\n",
            "RangeIndex: 8523 entries, 0 to 8522\n",
            "Data columns (total 12 columns):\n",
            " #   Column                     Non-Null Count  Dtype  \n",
            "---  ------                     --------------  -----  \n",
            " 0   Item_Identifier            8523 non-null   object \n",
            " 1   Item_Weight                7060 non-null   float64\n",
            " 2   Item_Fat_Content           8523 non-null   object \n",
            " 3   Item_Visibility            8523 non-null   float64\n",
            " 4   Item_Type                  8523 non-null   object \n",
            " 5   Item_MRP                   8523 non-null   float64\n",
            " 6   Outlet_Identifier          8523 non-null   object \n",
            " 7   Outlet_Establishment_Year  8523 non-null   int64  \n",
            " 8   Outlet_Size                6113 non-null   object \n",
            " 9   Outlet_Location_Type       8523 non-null   object \n",
            " 10  Outlet_Type                8523 non-null   object \n",
            " 11  Item_Outlet_Sales          8523 non-null   float64\n",
            "dtypes: float64(4), int64(1), object(7)\n",
            "memory usage: 799.2+ KB\n"
          ]
        }
      ]
    },
    {
      "cell_type": "code",
      "source": [
        "df.duplicated().sum()"
      ],
      "metadata": {
        "colab": {
          "base_uri": "https://localhost:8080/"
        },
        "id": "mKfbzcXSNJ0Q",
        "outputId": "46102bfc-851a-42ef-9a4a-254026f18f2d"
      },
      "execution_count": null,
      "outputs": [
        {
          "output_type": "execute_result",
          "data": {
            "text/plain": [
              "0"
            ]
          },
          "metadata": {},
          "execution_count": 5
        }
      ]
    },
    {
      "cell_type": "code",
      "source": [
        "df = df.dropna(axis=0, subset=['Item_Weight','Outlet_Size'])\n",
        "df.isnull().values.any()"
      ],
      "metadata": {
        "colab": {
          "base_uri": "https://localhost:8080/"
        },
        "id": "MsxVJnFQCfTm",
        "outputId": "a9a2bbc2-e29d-421c-b7e8-01704bfc6a14"
      },
      "execution_count": null,
      "outputs": [
        {
          "output_type": "execute_result",
          "data": {
            "text/plain": [
              "False"
            ]
          },
          "metadata": {},
          "execution_count": 6
        }
      ]
    },
    {
      "cell_type": "code",
      "source": [
        "df['Item_Fat_Content'].value_counts()"
      ],
      "metadata": {
        "colab": {
          "base_uri": "https://localhost:8080/"
        },
        "id": "BgW_K4oQeg4-",
        "outputId": "ecfffbee-a624-4038-e881-157fb72bda2c"
      },
      "execution_count": null,
      "outputs": [
        {
          "output_type": "execute_result",
          "data": {
            "text/plain": [
              "Low Fat    2774\n",
              "Regular    1575\n",
              "LF          177\n",
              "reg          71\n",
              "low fat      53\n",
              "Name: Item_Fat_Content, dtype: int64"
            ]
          },
          "metadata": {},
          "execution_count": 7
        }
      ]
    },
    {
      "cell_type": "code",
      "source": [
        "df.replace(['LF', 'low fat'], ['Low Fat', 'Low Fat'], inplace = True)\n",
        "df.replace(['Reg', 'reg'], ['Regular', 'Regular'], inplace = True)\n",
        "df['Item_Fat_Content'].value_counts()"
      ],
      "metadata": {
        "colab": {
          "base_uri": "https://localhost:8080/"
        },
        "id": "yC6vUycnejJ4",
        "outputId": "9028fdc2-c13a-45fc-cd0f-68a889922f43"
      },
      "execution_count": null,
      "outputs": [
        {
          "output_type": "stream",
          "name": "stderr",
          "text": [
            "/usr/local/lib/python3.7/dist-packages/pandas/core/frame.py:5244: SettingWithCopyWarning: \n",
            "A value is trying to be set on a copy of a slice from a DataFrame\n",
            "\n",
            "See the caveats in the documentation: https://pandas.pydata.org/pandas-docs/stable/user_guide/indexing.html#returning-a-view-versus-a-copy\n",
            "  method=method,\n"
          ]
        },
        {
          "output_type": "execute_result",
          "data": {
            "text/plain": [
              "Low Fat    3004\n",
              "Regular    1646\n",
              "Name: Item_Fat_Content, dtype: int64"
            ]
          },
          "metadata": {},
          "execution_count": 8
        }
      ]
    },
    {
      "cell_type": "code",
      "source": [
        "label_encoder = preprocessing.LabelEncoder()\n",
        "df['Item_Fat_Content'] = label_encoder.fit_transform(df['Item_Fat_Content'])\n",
        "df['Item_Fat_Content'].unique()\n"
      ],
      "metadata": {
        "colab": {
          "base_uri": "https://localhost:8080/"
        },
        "id": "X6uP9rsRgOv0",
        "outputId": "c970ec9e-b1b9-4b62-a131-2cd8305a4cd4"
      },
      "execution_count": null,
      "outputs": [
        {
          "output_type": "execute_result",
          "data": {
            "text/plain": [
              "array([0, 1])"
            ]
          },
          "metadata": {},
          "execution_count": 9
        }
      ]
    },
    {
      "cell_type": "code",
      "source": [
        "df['Item_Type'] = label_encoder.fit_transform(df['Item_Type'])\n",
        "df['Item_Type'].unique()"
      ],
      "metadata": {
        "colab": {
          "base_uri": "https://localhost:8080/"
        },
        "id": "wL10EZS8g_Dv",
        "outputId": "0398555b-e4d5-4bd8-9d2a-be1e3db9d1b9"
      },
      "execution_count": null,
      "outputs": [
        {
          "output_type": "execute_result",
          "data": {
            "text/plain": [
              "array([ 4, 14, 10,  9,  0, 13,  6,  2,  8,  5,  7,  3, 15,  1, 11, 12])"
            ]
          },
          "metadata": {},
          "execution_count": 10
        }
      ]
    },
    {
      "cell_type": "code",
      "source": [
        "df['Outlet_Location_Type'] = label_encoder.fit_transform(df['Outlet_Location_Type'])\n",
        "df['Outlet_Location_Type'].unique()"
      ],
      "metadata": {
        "colab": {
          "base_uri": "https://localhost:8080/"
        },
        "id": "anJupHAnhX5u",
        "outputId": "204e2328-ce2c-4ba6-fef9-aab8558e63b3"
      },
      "execution_count": null,
      "outputs": [
        {
          "output_type": "execute_result",
          "data": {
            "text/plain": [
              "array([0, 2, 1])"
            ]
          },
          "metadata": {},
          "execution_count": 11
        }
      ]
    },
    {
      "cell_type": "code",
      "source": [
        "df['Outlet_Type'] = label_encoder.fit_transform(df['Outlet_Type'])\n",
        "df['Outlet_Type'].unique()"
      ],
      "metadata": {
        "colab": {
          "base_uri": "https://localhost:8080/"
        },
        "id": "r2yq_CZrh1tr",
        "outputId": "1bbfe064-36db-40dd-bf0b-64d4d5e9b5eb"
      },
      "execution_count": null,
      "outputs": [
        {
          "output_type": "execute_result",
          "data": {
            "text/plain": [
              "array([0, 1])"
            ]
          },
          "metadata": {},
          "execution_count": 12
        }
      ]
    },
    {
      "cell_type": "code",
      "source": [
        "df['Outlet_Size'].value_counts()"
      ],
      "metadata": {
        "colab": {
          "base_uri": "https://localhost:8080/"
        },
        "id": "GxTHbrQ4N2EY",
        "outputId": "d7fad902-1a9f-46b2-aff3-93a5a458513f"
      },
      "execution_count": null,
      "outputs": [
        {
          "output_type": "execute_result",
          "data": {
            "text/plain": [
              "Small     1860\n",
              "Medium    1858\n",
              "High       932\n",
              "Name: Outlet_Size, dtype: int64"
            ]
          },
          "metadata": {},
          "execution_count": 13
        }
      ]
    },
    {
      "cell_type": "code",
      "source": [
        "df['Outlet_Size'].replace({'High': 2, 'Small': 0, 'Medium': 1}, inplace = True)"
      ],
      "metadata": {
        "id": "nhOxvaJIOa7S"
      },
      "execution_count": null,
      "outputs": []
    },
    {
      "cell_type": "code",
      "source": [
        "df['Outlet_Size'].value_counts()"
      ],
      "metadata": {
        "colab": {
          "base_uri": "https://localhost:8080/"
        },
        "id": "oLCuADUuOpkW",
        "outputId": "e3f44b7f-9fee-4324-b1d8-90f7802dc1c7"
      },
      "execution_count": null,
      "outputs": [
        {
          "output_type": "execute_result",
          "data": {
            "text/plain": [
              "0    1860\n",
              "1    1858\n",
              "2     932\n",
              "Name: Outlet_Size, dtype: int64"
            ]
          },
          "metadata": {},
          "execution_count": 15
        }
      ]
    },
    {
      "cell_type": "code",
      "source": [
        "X = df.drop(columns = ['Item_Outlet_Sales', 'Item_Identifier', 'Outlet_Identifier'])\n",
        "y = df['Item_Outlet_Sales']\n",
        "\n",
        "X_train, X_test, y_train, y_test = train_test_split(X,y, random_state=42)"
      ],
      "metadata": {
        "id": "rsO_mOabO6Ee"
      },
      "execution_count": null,
      "outputs": []
    },
    {
      "cell_type": "code",
      "source": [
        "num_selector = make_column_selector(dtype_include='number')\n",
        "cat_selector = make_column_selector(dtype_include = 'object')"
      ],
      "metadata": {
        "id": "7dR13BI-P7ED"
      },
      "execution_count": null,
      "outputs": []
    },
    {
      "cell_type": "code",
      "source": [
        "freq_imputer = SimpleImputer(strategy='most_frequent')\n",
        "mean_imputer = SimpleImputer(strategy='mean')\n",
        "\n",
        "ohe = OneHotEncoder(handle_unknown='ignore', sparse = False)\n",
        "scaler = StandardScaler()\n",
        "\n",
        "ohe_tuple = (ohe, cat_selector)\n"
      ],
      "metadata": {
        "id": "lYeetJCLQNj8"
      },
      "execution_count": null,
      "outputs": []
    },
    {
      "cell_type": "code",
      "source": [
        "numeric_pipe = make_pipeline(mean_imputer, scaler)\n",
        "numeric_pipe"
      ],
      "metadata": {
        "colab": {
          "base_uri": "https://localhost:8080/",
          "height": 126
        },
        "id": "X2TrWHabQehz",
        "outputId": "e4804851-53f3-4771-f6a2-a141f0108379"
      },
      "execution_count": null,
      "outputs": [
        {
          "output_type": "execute_result",
          "data": {
            "text/plain": [
              "Pipeline(steps=[('simpleimputer', SimpleImputer()),\n",
              "                ('standardscaler', StandardScaler())])"
            ],
            "text/html": [
              "<style>#sk-5cd1cf0a-b923-4170-9edf-342bc83da95d {color: black;background-color: white;}#sk-5cd1cf0a-b923-4170-9edf-342bc83da95d pre{padding: 0;}#sk-5cd1cf0a-b923-4170-9edf-342bc83da95d div.sk-toggleable {background-color: white;}#sk-5cd1cf0a-b923-4170-9edf-342bc83da95d label.sk-toggleable__label {cursor: pointer;display: block;width: 100%;margin-bottom: 0;padding: 0.3em;box-sizing: border-box;text-align: center;}#sk-5cd1cf0a-b923-4170-9edf-342bc83da95d label.sk-toggleable__label-arrow:before {content: \"▸\";float: left;margin-right: 0.25em;color: #696969;}#sk-5cd1cf0a-b923-4170-9edf-342bc83da95d label.sk-toggleable__label-arrow:hover:before {color: black;}#sk-5cd1cf0a-b923-4170-9edf-342bc83da95d div.sk-estimator:hover label.sk-toggleable__label-arrow:before {color: black;}#sk-5cd1cf0a-b923-4170-9edf-342bc83da95d div.sk-toggleable__content {max-height: 0;max-width: 0;overflow: hidden;text-align: left;background-color: #f0f8ff;}#sk-5cd1cf0a-b923-4170-9edf-342bc83da95d div.sk-toggleable__content pre {margin: 0.2em;color: black;border-radius: 0.25em;background-color: #f0f8ff;}#sk-5cd1cf0a-b923-4170-9edf-342bc83da95d input.sk-toggleable__control:checked~div.sk-toggleable__content {max-height: 200px;max-width: 100%;overflow: auto;}#sk-5cd1cf0a-b923-4170-9edf-342bc83da95d input.sk-toggleable__control:checked~label.sk-toggleable__label-arrow:before {content: \"▾\";}#sk-5cd1cf0a-b923-4170-9edf-342bc83da95d div.sk-estimator input.sk-toggleable__control:checked~label.sk-toggleable__label {background-color: #d4ebff;}#sk-5cd1cf0a-b923-4170-9edf-342bc83da95d div.sk-label input.sk-toggleable__control:checked~label.sk-toggleable__label {background-color: #d4ebff;}#sk-5cd1cf0a-b923-4170-9edf-342bc83da95d input.sk-hidden--visually {border: 0;clip: rect(1px 1px 1px 1px);clip: rect(1px, 1px, 1px, 1px);height: 1px;margin: -1px;overflow: hidden;padding: 0;position: absolute;width: 1px;}#sk-5cd1cf0a-b923-4170-9edf-342bc83da95d div.sk-estimator {font-family: monospace;background-color: #f0f8ff;border: 1px dotted black;border-radius: 0.25em;box-sizing: border-box;margin-bottom: 0.5em;}#sk-5cd1cf0a-b923-4170-9edf-342bc83da95d div.sk-estimator:hover {background-color: #d4ebff;}#sk-5cd1cf0a-b923-4170-9edf-342bc83da95d div.sk-parallel-item::after {content: \"\";width: 100%;border-bottom: 1px solid gray;flex-grow: 1;}#sk-5cd1cf0a-b923-4170-9edf-342bc83da95d div.sk-label:hover label.sk-toggleable__label {background-color: #d4ebff;}#sk-5cd1cf0a-b923-4170-9edf-342bc83da95d div.sk-serial::before {content: \"\";position: absolute;border-left: 1px solid gray;box-sizing: border-box;top: 2em;bottom: 0;left: 50%;}#sk-5cd1cf0a-b923-4170-9edf-342bc83da95d div.sk-serial {display: flex;flex-direction: column;align-items: center;background-color: white;padding-right: 0.2em;padding-left: 0.2em;}#sk-5cd1cf0a-b923-4170-9edf-342bc83da95d div.sk-item {z-index: 1;}#sk-5cd1cf0a-b923-4170-9edf-342bc83da95d div.sk-parallel {display: flex;align-items: stretch;justify-content: center;background-color: white;}#sk-5cd1cf0a-b923-4170-9edf-342bc83da95d div.sk-parallel::before {content: \"\";position: absolute;border-left: 1px solid gray;box-sizing: border-box;top: 2em;bottom: 0;left: 50%;}#sk-5cd1cf0a-b923-4170-9edf-342bc83da95d div.sk-parallel-item {display: flex;flex-direction: column;position: relative;background-color: white;}#sk-5cd1cf0a-b923-4170-9edf-342bc83da95d div.sk-parallel-item:first-child::after {align-self: flex-end;width: 50%;}#sk-5cd1cf0a-b923-4170-9edf-342bc83da95d div.sk-parallel-item:last-child::after {align-self: flex-start;width: 50%;}#sk-5cd1cf0a-b923-4170-9edf-342bc83da95d div.sk-parallel-item:only-child::after {width: 0;}#sk-5cd1cf0a-b923-4170-9edf-342bc83da95d div.sk-dashed-wrapped {border: 1px dashed gray;margin: 0 0.4em 0.5em 0.4em;box-sizing: border-box;padding-bottom: 0.4em;background-color: white;position: relative;}#sk-5cd1cf0a-b923-4170-9edf-342bc83da95d div.sk-label label {font-family: monospace;font-weight: bold;background-color: white;display: inline-block;line-height: 1.2em;}#sk-5cd1cf0a-b923-4170-9edf-342bc83da95d div.sk-label-container {position: relative;z-index: 2;text-align: center;}#sk-5cd1cf0a-b923-4170-9edf-342bc83da95d div.sk-container {/* jupyter's `normalize.less` sets `[hidden] { display: none; }` but bootstrap.min.css set `[hidden] { display: none !important; }` so we also need the `!important` here to be able to override the default hidden behavior on the sphinx rendered scikit-learn.org. See: https://github.com/scikit-learn/scikit-learn/issues/21755 */display: inline-block !important;position: relative;}#sk-5cd1cf0a-b923-4170-9edf-342bc83da95d div.sk-text-repr-fallback {display: none;}</style><div id=\"sk-5cd1cf0a-b923-4170-9edf-342bc83da95d\" class=\"sk-top-container\"><div class=\"sk-text-repr-fallback\"><pre>Pipeline(steps=[(&#x27;simpleimputer&#x27;, SimpleImputer()),\n",
              "                (&#x27;standardscaler&#x27;, StandardScaler())])</pre><b>Please rerun this cell to show the HTML repr or trust the notebook.</b></div><div class=\"sk-container\" hidden><div class=\"sk-item sk-dashed-wrapped\"><div class=\"sk-label-container\"><div class=\"sk-label sk-toggleable\"><input class=\"sk-toggleable__control sk-hidden--visually\" id=\"d4262c92-56eb-4de3-baac-ab3462a01617\" type=\"checkbox\" ><label for=\"d4262c92-56eb-4de3-baac-ab3462a01617\" class=\"sk-toggleable__label sk-toggleable__label-arrow\">Pipeline</label><div class=\"sk-toggleable__content\"><pre>Pipeline(steps=[(&#x27;simpleimputer&#x27;, SimpleImputer()),\n",
              "                (&#x27;standardscaler&#x27;, StandardScaler())])</pre></div></div></div><div class=\"sk-serial\"><div class=\"sk-item\"><div class=\"sk-estimator sk-toggleable\"><input class=\"sk-toggleable__control sk-hidden--visually\" id=\"053680e6-db7b-41e1-8bbe-c33c03fc541d\" type=\"checkbox\" ><label for=\"053680e6-db7b-41e1-8bbe-c33c03fc541d\" class=\"sk-toggleable__label sk-toggleable__label-arrow\">SimpleImputer</label><div class=\"sk-toggleable__content\"><pre>SimpleImputer()</pre></div></div></div><div class=\"sk-item\"><div class=\"sk-estimator sk-toggleable\"><input class=\"sk-toggleable__control sk-hidden--visually\" id=\"2d4df143-9c2c-4f00-9c95-a91f313554fa\" type=\"checkbox\" ><label for=\"2d4df143-9c2c-4f00-9c95-a91f313554fa\" class=\"sk-toggleable__label sk-toggleable__label-arrow\">StandardScaler</label><div class=\"sk-toggleable__content\"><pre>StandardScaler()</pre></div></div></div></div></div></div></div>"
            ]
          },
          "metadata": {},
          "execution_count": 19
        }
      ]
    },
    {
      "cell_type": "code",
      "source": [
        "categorical_pipe = make_pipeline(freq_imputer, ohe)\n",
        "categorical_pipe"
      ],
      "metadata": {
        "colab": {
          "base_uri": "https://localhost:8080/",
          "height": 126
        },
        "id": "3c-ygbKMQsVm",
        "outputId": "0af44672-12df-428b-b34b-cdf2c8ec0d61"
      },
      "execution_count": null,
      "outputs": [
        {
          "output_type": "execute_result",
          "data": {
            "text/plain": [
              "Pipeline(steps=[('simpleimputer', SimpleImputer(strategy='most_frequent')),\n",
              "                ('onehotencoder',\n",
              "                 OneHotEncoder(handle_unknown='ignore', sparse=False))])"
            ],
            "text/html": [
              "<style>#sk-7309c739-2aac-4e5c-a9c1-c297de9ea7ae {color: black;background-color: white;}#sk-7309c739-2aac-4e5c-a9c1-c297de9ea7ae pre{padding: 0;}#sk-7309c739-2aac-4e5c-a9c1-c297de9ea7ae div.sk-toggleable {background-color: white;}#sk-7309c739-2aac-4e5c-a9c1-c297de9ea7ae label.sk-toggleable__label {cursor: pointer;display: block;width: 100%;margin-bottom: 0;padding: 0.3em;box-sizing: border-box;text-align: center;}#sk-7309c739-2aac-4e5c-a9c1-c297de9ea7ae label.sk-toggleable__label-arrow:before {content: \"▸\";float: left;margin-right: 0.25em;color: #696969;}#sk-7309c739-2aac-4e5c-a9c1-c297de9ea7ae label.sk-toggleable__label-arrow:hover:before {color: black;}#sk-7309c739-2aac-4e5c-a9c1-c297de9ea7ae div.sk-estimator:hover label.sk-toggleable__label-arrow:before {color: black;}#sk-7309c739-2aac-4e5c-a9c1-c297de9ea7ae div.sk-toggleable__content {max-height: 0;max-width: 0;overflow: hidden;text-align: left;background-color: #f0f8ff;}#sk-7309c739-2aac-4e5c-a9c1-c297de9ea7ae div.sk-toggleable__content pre {margin: 0.2em;color: black;border-radius: 0.25em;background-color: #f0f8ff;}#sk-7309c739-2aac-4e5c-a9c1-c297de9ea7ae input.sk-toggleable__control:checked~div.sk-toggleable__content {max-height: 200px;max-width: 100%;overflow: auto;}#sk-7309c739-2aac-4e5c-a9c1-c297de9ea7ae input.sk-toggleable__control:checked~label.sk-toggleable__label-arrow:before {content: \"▾\";}#sk-7309c739-2aac-4e5c-a9c1-c297de9ea7ae div.sk-estimator input.sk-toggleable__control:checked~label.sk-toggleable__label {background-color: #d4ebff;}#sk-7309c739-2aac-4e5c-a9c1-c297de9ea7ae div.sk-label input.sk-toggleable__control:checked~label.sk-toggleable__label {background-color: #d4ebff;}#sk-7309c739-2aac-4e5c-a9c1-c297de9ea7ae input.sk-hidden--visually {border: 0;clip: rect(1px 1px 1px 1px);clip: rect(1px, 1px, 1px, 1px);height: 1px;margin: -1px;overflow: hidden;padding: 0;position: absolute;width: 1px;}#sk-7309c739-2aac-4e5c-a9c1-c297de9ea7ae div.sk-estimator {font-family: monospace;background-color: #f0f8ff;border: 1px dotted black;border-radius: 0.25em;box-sizing: border-box;margin-bottom: 0.5em;}#sk-7309c739-2aac-4e5c-a9c1-c297de9ea7ae div.sk-estimator:hover {background-color: #d4ebff;}#sk-7309c739-2aac-4e5c-a9c1-c297de9ea7ae div.sk-parallel-item::after {content: \"\";width: 100%;border-bottom: 1px solid gray;flex-grow: 1;}#sk-7309c739-2aac-4e5c-a9c1-c297de9ea7ae div.sk-label:hover label.sk-toggleable__label {background-color: #d4ebff;}#sk-7309c739-2aac-4e5c-a9c1-c297de9ea7ae div.sk-serial::before {content: \"\";position: absolute;border-left: 1px solid gray;box-sizing: border-box;top: 2em;bottom: 0;left: 50%;}#sk-7309c739-2aac-4e5c-a9c1-c297de9ea7ae div.sk-serial {display: flex;flex-direction: column;align-items: center;background-color: white;padding-right: 0.2em;padding-left: 0.2em;}#sk-7309c739-2aac-4e5c-a9c1-c297de9ea7ae div.sk-item {z-index: 1;}#sk-7309c739-2aac-4e5c-a9c1-c297de9ea7ae div.sk-parallel {display: flex;align-items: stretch;justify-content: center;background-color: white;}#sk-7309c739-2aac-4e5c-a9c1-c297de9ea7ae div.sk-parallel::before {content: \"\";position: absolute;border-left: 1px solid gray;box-sizing: border-box;top: 2em;bottom: 0;left: 50%;}#sk-7309c739-2aac-4e5c-a9c1-c297de9ea7ae div.sk-parallel-item {display: flex;flex-direction: column;position: relative;background-color: white;}#sk-7309c739-2aac-4e5c-a9c1-c297de9ea7ae div.sk-parallel-item:first-child::after {align-self: flex-end;width: 50%;}#sk-7309c739-2aac-4e5c-a9c1-c297de9ea7ae div.sk-parallel-item:last-child::after {align-self: flex-start;width: 50%;}#sk-7309c739-2aac-4e5c-a9c1-c297de9ea7ae div.sk-parallel-item:only-child::after {width: 0;}#sk-7309c739-2aac-4e5c-a9c1-c297de9ea7ae div.sk-dashed-wrapped {border: 1px dashed gray;margin: 0 0.4em 0.5em 0.4em;box-sizing: border-box;padding-bottom: 0.4em;background-color: white;position: relative;}#sk-7309c739-2aac-4e5c-a9c1-c297de9ea7ae div.sk-label label {font-family: monospace;font-weight: bold;background-color: white;display: inline-block;line-height: 1.2em;}#sk-7309c739-2aac-4e5c-a9c1-c297de9ea7ae div.sk-label-container {position: relative;z-index: 2;text-align: center;}#sk-7309c739-2aac-4e5c-a9c1-c297de9ea7ae div.sk-container {/* jupyter's `normalize.less` sets `[hidden] { display: none; }` but bootstrap.min.css set `[hidden] { display: none !important; }` so we also need the `!important` here to be able to override the default hidden behavior on the sphinx rendered scikit-learn.org. See: https://github.com/scikit-learn/scikit-learn/issues/21755 */display: inline-block !important;position: relative;}#sk-7309c739-2aac-4e5c-a9c1-c297de9ea7ae div.sk-text-repr-fallback {display: none;}</style><div id=\"sk-7309c739-2aac-4e5c-a9c1-c297de9ea7ae\" class=\"sk-top-container\"><div class=\"sk-text-repr-fallback\"><pre>Pipeline(steps=[(&#x27;simpleimputer&#x27;, SimpleImputer(strategy=&#x27;most_frequent&#x27;)),\n",
              "                (&#x27;onehotencoder&#x27;,\n",
              "                 OneHotEncoder(handle_unknown=&#x27;ignore&#x27;, sparse=False))])</pre><b>Please rerun this cell to show the HTML repr or trust the notebook.</b></div><div class=\"sk-container\" hidden><div class=\"sk-item sk-dashed-wrapped\"><div class=\"sk-label-container\"><div class=\"sk-label sk-toggleable\"><input class=\"sk-toggleable__control sk-hidden--visually\" id=\"5d8004f7-4f94-4eda-b292-0ee2b595227d\" type=\"checkbox\" ><label for=\"5d8004f7-4f94-4eda-b292-0ee2b595227d\" class=\"sk-toggleable__label sk-toggleable__label-arrow\">Pipeline</label><div class=\"sk-toggleable__content\"><pre>Pipeline(steps=[(&#x27;simpleimputer&#x27;, SimpleImputer(strategy=&#x27;most_frequent&#x27;)),\n",
              "                (&#x27;onehotencoder&#x27;,\n",
              "                 OneHotEncoder(handle_unknown=&#x27;ignore&#x27;, sparse=False))])</pre></div></div></div><div class=\"sk-serial\"><div class=\"sk-item\"><div class=\"sk-estimator sk-toggleable\"><input class=\"sk-toggleable__control sk-hidden--visually\" id=\"7e476d5b-ac46-4f4d-8d5b-de9e4d892192\" type=\"checkbox\" ><label for=\"7e476d5b-ac46-4f4d-8d5b-de9e4d892192\" class=\"sk-toggleable__label sk-toggleable__label-arrow\">SimpleImputer</label><div class=\"sk-toggleable__content\"><pre>SimpleImputer(strategy=&#x27;most_frequent&#x27;)</pre></div></div></div><div class=\"sk-item\"><div class=\"sk-estimator sk-toggleable\"><input class=\"sk-toggleable__control sk-hidden--visually\" id=\"3d51e07b-306b-456d-86a4-3c9763a59b58\" type=\"checkbox\" ><label for=\"3d51e07b-306b-456d-86a4-3c9763a59b58\" class=\"sk-toggleable__label sk-toggleable__label-arrow\">OneHotEncoder</label><div class=\"sk-toggleable__content\"><pre>OneHotEncoder(handle_unknown=&#x27;ignore&#x27;, sparse=False)</pre></div></div></div></div></div></div></div>"
            ]
          },
          "metadata": {},
          "execution_count": 20
        }
      ]
    },
    {
      "cell_type": "code",
      "source": [
        "number_tuple = (numeric_pipe, num_selector)\n",
        "category_tuple = (categorical_pipe, cat_selector)\n",
        "\n",
        "preprocessor = make_column_transformer(number_tuple, category_tuple)\n",
        "preprocessor"
      ],
      "metadata": {
        "colab": {
          "base_uri": "https://localhost:8080/",
          "height": 152
        },
        "id": "xhjGTLmAQ9X8",
        "outputId": "5547840d-edfa-410c-864c-59a91c1b574c"
      },
      "execution_count": null,
      "outputs": [
        {
          "output_type": "execute_result",
          "data": {
            "text/plain": [
              "ColumnTransformer(transformers=[('pipeline-1',\n",
              "                                 Pipeline(steps=[('simpleimputer',\n",
              "                                                  SimpleImputer()),\n",
              "                                                 ('standardscaler',\n",
              "                                                  StandardScaler())]),\n",
              "                                 <sklearn.compose._column_transformer.make_column_selector object at 0x7f8de0c73e90>),\n",
              "                                ('pipeline-2',\n",
              "                                 Pipeline(steps=[('simpleimputer',\n",
              "                                                  SimpleImputer(strategy='most_frequent')),\n",
              "                                                 ('onehotencoder',\n",
              "                                                  OneHotEncoder(handle_unknown='ignore',\n",
              "                                                                sparse=False))]),\n",
              "                                 <sklearn.compose._column_transformer.make_column_selector object at 0x7f8de0c73cd0>)])"
            ],
            "text/html": [
              "<style>#sk-464c8de1-9291-4b10-b5ac-e6bc77cce5a7 {color: black;background-color: white;}#sk-464c8de1-9291-4b10-b5ac-e6bc77cce5a7 pre{padding: 0;}#sk-464c8de1-9291-4b10-b5ac-e6bc77cce5a7 div.sk-toggleable {background-color: white;}#sk-464c8de1-9291-4b10-b5ac-e6bc77cce5a7 label.sk-toggleable__label {cursor: pointer;display: block;width: 100%;margin-bottom: 0;padding: 0.3em;box-sizing: border-box;text-align: center;}#sk-464c8de1-9291-4b10-b5ac-e6bc77cce5a7 label.sk-toggleable__label-arrow:before {content: \"▸\";float: left;margin-right: 0.25em;color: #696969;}#sk-464c8de1-9291-4b10-b5ac-e6bc77cce5a7 label.sk-toggleable__label-arrow:hover:before {color: black;}#sk-464c8de1-9291-4b10-b5ac-e6bc77cce5a7 div.sk-estimator:hover label.sk-toggleable__label-arrow:before {color: black;}#sk-464c8de1-9291-4b10-b5ac-e6bc77cce5a7 div.sk-toggleable__content {max-height: 0;max-width: 0;overflow: hidden;text-align: left;background-color: #f0f8ff;}#sk-464c8de1-9291-4b10-b5ac-e6bc77cce5a7 div.sk-toggleable__content pre {margin: 0.2em;color: black;border-radius: 0.25em;background-color: #f0f8ff;}#sk-464c8de1-9291-4b10-b5ac-e6bc77cce5a7 input.sk-toggleable__control:checked~div.sk-toggleable__content {max-height: 200px;max-width: 100%;overflow: auto;}#sk-464c8de1-9291-4b10-b5ac-e6bc77cce5a7 input.sk-toggleable__control:checked~label.sk-toggleable__label-arrow:before {content: \"▾\";}#sk-464c8de1-9291-4b10-b5ac-e6bc77cce5a7 div.sk-estimator input.sk-toggleable__control:checked~label.sk-toggleable__label {background-color: #d4ebff;}#sk-464c8de1-9291-4b10-b5ac-e6bc77cce5a7 div.sk-label input.sk-toggleable__control:checked~label.sk-toggleable__label {background-color: #d4ebff;}#sk-464c8de1-9291-4b10-b5ac-e6bc77cce5a7 input.sk-hidden--visually {border: 0;clip: rect(1px 1px 1px 1px);clip: rect(1px, 1px, 1px, 1px);height: 1px;margin: -1px;overflow: hidden;padding: 0;position: absolute;width: 1px;}#sk-464c8de1-9291-4b10-b5ac-e6bc77cce5a7 div.sk-estimator {font-family: monospace;background-color: #f0f8ff;border: 1px dotted black;border-radius: 0.25em;box-sizing: border-box;margin-bottom: 0.5em;}#sk-464c8de1-9291-4b10-b5ac-e6bc77cce5a7 div.sk-estimator:hover {background-color: #d4ebff;}#sk-464c8de1-9291-4b10-b5ac-e6bc77cce5a7 div.sk-parallel-item::after {content: \"\";width: 100%;border-bottom: 1px solid gray;flex-grow: 1;}#sk-464c8de1-9291-4b10-b5ac-e6bc77cce5a7 div.sk-label:hover label.sk-toggleable__label {background-color: #d4ebff;}#sk-464c8de1-9291-4b10-b5ac-e6bc77cce5a7 div.sk-serial::before {content: \"\";position: absolute;border-left: 1px solid gray;box-sizing: border-box;top: 2em;bottom: 0;left: 50%;}#sk-464c8de1-9291-4b10-b5ac-e6bc77cce5a7 div.sk-serial {display: flex;flex-direction: column;align-items: center;background-color: white;padding-right: 0.2em;padding-left: 0.2em;}#sk-464c8de1-9291-4b10-b5ac-e6bc77cce5a7 div.sk-item {z-index: 1;}#sk-464c8de1-9291-4b10-b5ac-e6bc77cce5a7 div.sk-parallel {display: flex;align-items: stretch;justify-content: center;background-color: white;}#sk-464c8de1-9291-4b10-b5ac-e6bc77cce5a7 div.sk-parallel::before {content: \"\";position: absolute;border-left: 1px solid gray;box-sizing: border-box;top: 2em;bottom: 0;left: 50%;}#sk-464c8de1-9291-4b10-b5ac-e6bc77cce5a7 div.sk-parallel-item {display: flex;flex-direction: column;position: relative;background-color: white;}#sk-464c8de1-9291-4b10-b5ac-e6bc77cce5a7 div.sk-parallel-item:first-child::after {align-self: flex-end;width: 50%;}#sk-464c8de1-9291-4b10-b5ac-e6bc77cce5a7 div.sk-parallel-item:last-child::after {align-self: flex-start;width: 50%;}#sk-464c8de1-9291-4b10-b5ac-e6bc77cce5a7 div.sk-parallel-item:only-child::after {width: 0;}#sk-464c8de1-9291-4b10-b5ac-e6bc77cce5a7 div.sk-dashed-wrapped {border: 1px dashed gray;margin: 0 0.4em 0.5em 0.4em;box-sizing: border-box;padding-bottom: 0.4em;background-color: white;position: relative;}#sk-464c8de1-9291-4b10-b5ac-e6bc77cce5a7 div.sk-label label {font-family: monospace;font-weight: bold;background-color: white;display: inline-block;line-height: 1.2em;}#sk-464c8de1-9291-4b10-b5ac-e6bc77cce5a7 div.sk-label-container {position: relative;z-index: 2;text-align: center;}#sk-464c8de1-9291-4b10-b5ac-e6bc77cce5a7 div.sk-container {/* jupyter's `normalize.less` sets `[hidden] { display: none; }` but bootstrap.min.css set `[hidden] { display: none !important; }` so we also need the `!important` here to be able to override the default hidden behavior on the sphinx rendered scikit-learn.org. See: https://github.com/scikit-learn/scikit-learn/issues/21755 */display: inline-block !important;position: relative;}#sk-464c8de1-9291-4b10-b5ac-e6bc77cce5a7 div.sk-text-repr-fallback {display: none;}</style><div id=\"sk-464c8de1-9291-4b10-b5ac-e6bc77cce5a7\" class=\"sk-top-container\"><div class=\"sk-text-repr-fallback\"><pre>ColumnTransformer(transformers=[(&#x27;pipeline-1&#x27;,\n",
              "                                 Pipeline(steps=[(&#x27;simpleimputer&#x27;,\n",
              "                                                  SimpleImputer()),\n",
              "                                                 (&#x27;standardscaler&#x27;,\n",
              "                                                  StandardScaler())]),\n",
              "                                 &lt;sklearn.compose._column_transformer.make_column_selector object at 0x7f8de0c73e90&gt;),\n",
              "                                (&#x27;pipeline-2&#x27;,\n",
              "                                 Pipeline(steps=[(&#x27;simpleimputer&#x27;,\n",
              "                                                  SimpleImputer(strategy=&#x27;most_frequent&#x27;)),\n",
              "                                                 (&#x27;onehotencoder&#x27;,\n",
              "                                                  OneHotEncoder(handle_unknown=&#x27;ignore&#x27;,\n",
              "                                                                sparse=False))]),\n",
              "                                 &lt;sklearn.compose._column_transformer.make_column_selector object at 0x7f8de0c73cd0&gt;)])</pre><b>Please rerun this cell to show the HTML repr or trust the notebook.</b></div><div class=\"sk-container\" hidden><div class=\"sk-item sk-dashed-wrapped\"><div class=\"sk-label-container\"><div class=\"sk-label sk-toggleable\"><input class=\"sk-toggleable__control sk-hidden--visually\" id=\"e1b271db-98f7-4e42-a2d0-35089e85d056\" type=\"checkbox\" ><label for=\"e1b271db-98f7-4e42-a2d0-35089e85d056\" class=\"sk-toggleable__label sk-toggleable__label-arrow\">ColumnTransformer</label><div class=\"sk-toggleable__content\"><pre>ColumnTransformer(transformers=[(&#x27;pipeline-1&#x27;,\n",
              "                                 Pipeline(steps=[(&#x27;simpleimputer&#x27;,\n",
              "                                                  SimpleImputer()),\n",
              "                                                 (&#x27;standardscaler&#x27;,\n",
              "                                                  StandardScaler())]),\n",
              "                                 &lt;sklearn.compose._column_transformer.make_column_selector object at 0x7f8de0c73e90&gt;),\n",
              "                                (&#x27;pipeline-2&#x27;,\n",
              "                                 Pipeline(steps=[(&#x27;simpleimputer&#x27;,\n",
              "                                                  SimpleImputer(strategy=&#x27;most_frequent&#x27;)),\n",
              "                                                 (&#x27;onehotencoder&#x27;,\n",
              "                                                  OneHotEncoder(handle_unknown=&#x27;ignore&#x27;,\n",
              "                                                                sparse=False))]),\n",
              "                                 &lt;sklearn.compose._column_transformer.make_column_selector object at 0x7f8de0c73cd0&gt;)])</pre></div></div></div><div class=\"sk-parallel\"><div class=\"sk-parallel-item\"><div class=\"sk-item\"><div class=\"sk-label-container\"><div class=\"sk-label sk-toggleable\"><input class=\"sk-toggleable__control sk-hidden--visually\" id=\"b649f641-6865-4934-bb14-9d22cdb2fd72\" type=\"checkbox\" ><label for=\"b649f641-6865-4934-bb14-9d22cdb2fd72\" class=\"sk-toggleable__label sk-toggleable__label-arrow\">pipeline-1</label><div class=\"sk-toggleable__content\"><pre>&lt;sklearn.compose._column_transformer.make_column_selector object at 0x7f8de0c73e90&gt;</pre></div></div></div><div class=\"sk-serial\"><div class=\"sk-item\"><div class=\"sk-serial\"><div class=\"sk-item\"><div class=\"sk-estimator sk-toggleable\"><input class=\"sk-toggleable__control sk-hidden--visually\" id=\"99a88546-c220-43b1-9321-4b6f5316956b\" type=\"checkbox\" ><label for=\"99a88546-c220-43b1-9321-4b6f5316956b\" class=\"sk-toggleable__label sk-toggleable__label-arrow\">SimpleImputer</label><div class=\"sk-toggleable__content\"><pre>SimpleImputer()</pre></div></div></div><div class=\"sk-item\"><div class=\"sk-estimator sk-toggleable\"><input class=\"sk-toggleable__control sk-hidden--visually\" id=\"9a8b0cdc-89b2-4c88-ab09-73046ff4065f\" type=\"checkbox\" ><label for=\"9a8b0cdc-89b2-4c88-ab09-73046ff4065f\" class=\"sk-toggleable__label sk-toggleable__label-arrow\">StandardScaler</label><div class=\"sk-toggleable__content\"><pre>StandardScaler()</pre></div></div></div></div></div></div></div></div><div class=\"sk-parallel-item\"><div class=\"sk-item\"><div class=\"sk-label-container\"><div class=\"sk-label sk-toggleable\"><input class=\"sk-toggleable__control sk-hidden--visually\" id=\"b354020d-5e8f-4635-8e62-b5ad09feecb8\" type=\"checkbox\" ><label for=\"b354020d-5e8f-4635-8e62-b5ad09feecb8\" class=\"sk-toggleable__label sk-toggleable__label-arrow\">pipeline-2</label><div class=\"sk-toggleable__content\"><pre>&lt;sklearn.compose._column_transformer.make_column_selector object at 0x7f8de0c73cd0&gt;</pre></div></div></div><div class=\"sk-serial\"><div class=\"sk-item\"><div class=\"sk-serial\"><div class=\"sk-item\"><div class=\"sk-estimator sk-toggleable\"><input class=\"sk-toggleable__control sk-hidden--visually\" id=\"7348e064-1bd0-472a-9121-67ee7919ce35\" type=\"checkbox\" ><label for=\"7348e064-1bd0-472a-9121-67ee7919ce35\" class=\"sk-toggleable__label sk-toggleable__label-arrow\">SimpleImputer</label><div class=\"sk-toggleable__content\"><pre>SimpleImputer(strategy=&#x27;most_frequent&#x27;)</pre></div></div></div><div class=\"sk-item\"><div class=\"sk-estimator sk-toggleable\"><input class=\"sk-toggleable__control sk-hidden--visually\" id=\"326672b2-1783-4714-ac8a-ba9792361280\" type=\"checkbox\" ><label for=\"326672b2-1783-4714-ac8a-ba9792361280\" class=\"sk-toggleable__label sk-toggleable__label-arrow\">OneHotEncoder</label><div class=\"sk-toggleable__content\"><pre>OneHotEncoder(handle_unknown=&#x27;ignore&#x27;, sparse=False)</pre></div></div></div></div></div></div></div></div></div></div></div></div>"
            ]
          },
          "metadata": {},
          "execution_count": 21
        }
      ]
    },
    {
      "cell_type": "code",
      "source": [
        "preprocessor.fit(X_train)"
      ],
      "metadata": {
        "colab": {
          "base_uri": "https://localhost:8080/",
          "height": 152
        },
        "id": "fqSv02R9RXAx",
        "outputId": "050d7b2d-032a-4721-a984-c0aa31547cb7"
      },
      "execution_count": null,
      "outputs": [
        {
          "output_type": "execute_result",
          "data": {
            "text/plain": [
              "ColumnTransformer(transformers=[('pipeline-1',\n",
              "                                 Pipeline(steps=[('simpleimputer',\n",
              "                                                  SimpleImputer()),\n",
              "                                                 ('standardscaler',\n",
              "                                                  StandardScaler())]),\n",
              "                                 <sklearn.compose._column_transformer.make_column_selector object at 0x7f8de0c73e90>),\n",
              "                                ('pipeline-2',\n",
              "                                 Pipeline(steps=[('simpleimputer',\n",
              "                                                  SimpleImputer(strategy='most_frequent')),\n",
              "                                                 ('onehotencoder',\n",
              "                                                  OneHotEncoder(handle_unknown='ignore',\n",
              "                                                                sparse=False))]),\n",
              "                                 <sklearn.compose._column_transformer.make_column_selector object at 0x7f8de0c73cd0>)])"
            ],
            "text/html": [
              "<style>#sk-169b0a96-76fb-43f7-87b5-488e8d36ae62 {color: black;background-color: white;}#sk-169b0a96-76fb-43f7-87b5-488e8d36ae62 pre{padding: 0;}#sk-169b0a96-76fb-43f7-87b5-488e8d36ae62 div.sk-toggleable {background-color: white;}#sk-169b0a96-76fb-43f7-87b5-488e8d36ae62 label.sk-toggleable__label {cursor: pointer;display: block;width: 100%;margin-bottom: 0;padding: 0.3em;box-sizing: border-box;text-align: center;}#sk-169b0a96-76fb-43f7-87b5-488e8d36ae62 label.sk-toggleable__label-arrow:before {content: \"▸\";float: left;margin-right: 0.25em;color: #696969;}#sk-169b0a96-76fb-43f7-87b5-488e8d36ae62 label.sk-toggleable__label-arrow:hover:before {color: black;}#sk-169b0a96-76fb-43f7-87b5-488e8d36ae62 div.sk-estimator:hover label.sk-toggleable__label-arrow:before {color: black;}#sk-169b0a96-76fb-43f7-87b5-488e8d36ae62 div.sk-toggleable__content {max-height: 0;max-width: 0;overflow: hidden;text-align: left;background-color: #f0f8ff;}#sk-169b0a96-76fb-43f7-87b5-488e8d36ae62 div.sk-toggleable__content pre {margin: 0.2em;color: black;border-radius: 0.25em;background-color: #f0f8ff;}#sk-169b0a96-76fb-43f7-87b5-488e8d36ae62 input.sk-toggleable__control:checked~div.sk-toggleable__content {max-height: 200px;max-width: 100%;overflow: auto;}#sk-169b0a96-76fb-43f7-87b5-488e8d36ae62 input.sk-toggleable__control:checked~label.sk-toggleable__label-arrow:before {content: \"▾\";}#sk-169b0a96-76fb-43f7-87b5-488e8d36ae62 div.sk-estimator input.sk-toggleable__control:checked~label.sk-toggleable__label {background-color: #d4ebff;}#sk-169b0a96-76fb-43f7-87b5-488e8d36ae62 div.sk-label input.sk-toggleable__control:checked~label.sk-toggleable__label {background-color: #d4ebff;}#sk-169b0a96-76fb-43f7-87b5-488e8d36ae62 input.sk-hidden--visually {border: 0;clip: rect(1px 1px 1px 1px);clip: rect(1px, 1px, 1px, 1px);height: 1px;margin: -1px;overflow: hidden;padding: 0;position: absolute;width: 1px;}#sk-169b0a96-76fb-43f7-87b5-488e8d36ae62 div.sk-estimator {font-family: monospace;background-color: #f0f8ff;border: 1px dotted black;border-radius: 0.25em;box-sizing: border-box;margin-bottom: 0.5em;}#sk-169b0a96-76fb-43f7-87b5-488e8d36ae62 div.sk-estimator:hover {background-color: #d4ebff;}#sk-169b0a96-76fb-43f7-87b5-488e8d36ae62 div.sk-parallel-item::after {content: \"\";width: 100%;border-bottom: 1px solid gray;flex-grow: 1;}#sk-169b0a96-76fb-43f7-87b5-488e8d36ae62 div.sk-label:hover label.sk-toggleable__label {background-color: #d4ebff;}#sk-169b0a96-76fb-43f7-87b5-488e8d36ae62 div.sk-serial::before {content: \"\";position: absolute;border-left: 1px solid gray;box-sizing: border-box;top: 2em;bottom: 0;left: 50%;}#sk-169b0a96-76fb-43f7-87b5-488e8d36ae62 div.sk-serial {display: flex;flex-direction: column;align-items: center;background-color: white;padding-right: 0.2em;padding-left: 0.2em;}#sk-169b0a96-76fb-43f7-87b5-488e8d36ae62 div.sk-item {z-index: 1;}#sk-169b0a96-76fb-43f7-87b5-488e8d36ae62 div.sk-parallel {display: flex;align-items: stretch;justify-content: center;background-color: white;}#sk-169b0a96-76fb-43f7-87b5-488e8d36ae62 div.sk-parallel::before {content: \"\";position: absolute;border-left: 1px solid gray;box-sizing: border-box;top: 2em;bottom: 0;left: 50%;}#sk-169b0a96-76fb-43f7-87b5-488e8d36ae62 div.sk-parallel-item {display: flex;flex-direction: column;position: relative;background-color: white;}#sk-169b0a96-76fb-43f7-87b5-488e8d36ae62 div.sk-parallel-item:first-child::after {align-self: flex-end;width: 50%;}#sk-169b0a96-76fb-43f7-87b5-488e8d36ae62 div.sk-parallel-item:last-child::after {align-self: flex-start;width: 50%;}#sk-169b0a96-76fb-43f7-87b5-488e8d36ae62 div.sk-parallel-item:only-child::after {width: 0;}#sk-169b0a96-76fb-43f7-87b5-488e8d36ae62 div.sk-dashed-wrapped {border: 1px dashed gray;margin: 0 0.4em 0.5em 0.4em;box-sizing: border-box;padding-bottom: 0.4em;background-color: white;position: relative;}#sk-169b0a96-76fb-43f7-87b5-488e8d36ae62 div.sk-label label {font-family: monospace;font-weight: bold;background-color: white;display: inline-block;line-height: 1.2em;}#sk-169b0a96-76fb-43f7-87b5-488e8d36ae62 div.sk-label-container {position: relative;z-index: 2;text-align: center;}#sk-169b0a96-76fb-43f7-87b5-488e8d36ae62 div.sk-container {/* jupyter's `normalize.less` sets `[hidden] { display: none; }` but bootstrap.min.css set `[hidden] { display: none !important; }` so we also need the `!important` here to be able to override the default hidden behavior on the sphinx rendered scikit-learn.org. See: https://github.com/scikit-learn/scikit-learn/issues/21755 */display: inline-block !important;position: relative;}#sk-169b0a96-76fb-43f7-87b5-488e8d36ae62 div.sk-text-repr-fallback {display: none;}</style><div id=\"sk-169b0a96-76fb-43f7-87b5-488e8d36ae62\" class=\"sk-top-container\"><div class=\"sk-text-repr-fallback\"><pre>ColumnTransformer(transformers=[(&#x27;pipeline-1&#x27;,\n",
              "                                 Pipeline(steps=[(&#x27;simpleimputer&#x27;,\n",
              "                                                  SimpleImputer()),\n",
              "                                                 (&#x27;standardscaler&#x27;,\n",
              "                                                  StandardScaler())]),\n",
              "                                 &lt;sklearn.compose._column_transformer.make_column_selector object at 0x7f8de0c73e90&gt;),\n",
              "                                (&#x27;pipeline-2&#x27;,\n",
              "                                 Pipeline(steps=[(&#x27;simpleimputer&#x27;,\n",
              "                                                  SimpleImputer(strategy=&#x27;most_frequent&#x27;)),\n",
              "                                                 (&#x27;onehotencoder&#x27;,\n",
              "                                                  OneHotEncoder(handle_unknown=&#x27;ignore&#x27;,\n",
              "                                                                sparse=False))]),\n",
              "                                 &lt;sklearn.compose._column_transformer.make_column_selector object at 0x7f8de0c73cd0&gt;)])</pre><b>Please rerun this cell to show the HTML repr or trust the notebook.</b></div><div class=\"sk-container\" hidden><div class=\"sk-item sk-dashed-wrapped\"><div class=\"sk-label-container\"><div class=\"sk-label sk-toggleable\"><input class=\"sk-toggleable__control sk-hidden--visually\" id=\"4c3fb06c-43cc-425f-8cb0-250f101da91e\" type=\"checkbox\" ><label for=\"4c3fb06c-43cc-425f-8cb0-250f101da91e\" class=\"sk-toggleable__label sk-toggleable__label-arrow\">ColumnTransformer</label><div class=\"sk-toggleable__content\"><pre>ColumnTransformer(transformers=[(&#x27;pipeline-1&#x27;,\n",
              "                                 Pipeline(steps=[(&#x27;simpleimputer&#x27;,\n",
              "                                                  SimpleImputer()),\n",
              "                                                 (&#x27;standardscaler&#x27;,\n",
              "                                                  StandardScaler())]),\n",
              "                                 &lt;sklearn.compose._column_transformer.make_column_selector object at 0x7f8de0c73e90&gt;),\n",
              "                                (&#x27;pipeline-2&#x27;,\n",
              "                                 Pipeline(steps=[(&#x27;simpleimputer&#x27;,\n",
              "                                                  SimpleImputer(strategy=&#x27;most_frequent&#x27;)),\n",
              "                                                 (&#x27;onehotencoder&#x27;,\n",
              "                                                  OneHotEncoder(handle_unknown=&#x27;ignore&#x27;,\n",
              "                                                                sparse=False))]),\n",
              "                                 &lt;sklearn.compose._column_transformer.make_column_selector object at 0x7f8de0c73cd0&gt;)])</pre></div></div></div><div class=\"sk-parallel\"><div class=\"sk-parallel-item\"><div class=\"sk-item\"><div class=\"sk-label-container\"><div class=\"sk-label sk-toggleable\"><input class=\"sk-toggleable__control sk-hidden--visually\" id=\"5cdd619c-076d-4a1a-a0e9-436439fc7b6d\" type=\"checkbox\" ><label for=\"5cdd619c-076d-4a1a-a0e9-436439fc7b6d\" class=\"sk-toggleable__label sk-toggleable__label-arrow\">pipeline-1</label><div class=\"sk-toggleable__content\"><pre>&lt;sklearn.compose._column_transformer.make_column_selector object at 0x7f8de0c73e90&gt;</pre></div></div></div><div class=\"sk-serial\"><div class=\"sk-item\"><div class=\"sk-serial\"><div class=\"sk-item\"><div class=\"sk-estimator sk-toggleable\"><input class=\"sk-toggleable__control sk-hidden--visually\" id=\"d26d0e8c-9797-402d-958b-0319a2727b12\" type=\"checkbox\" ><label for=\"d26d0e8c-9797-402d-958b-0319a2727b12\" class=\"sk-toggleable__label sk-toggleable__label-arrow\">SimpleImputer</label><div class=\"sk-toggleable__content\"><pre>SimpleImputer()</pre></div></div></div><div class=\"sk-item\"><div class=\"sk-estimator sk-toggleable\"><input class=\"sk-toggleable__control sk-hidden--visually\" id=\"202631b4-6098-445e-98a8-e47b85ed0db3\" type=\"checkbox\" ><label for=\"202631b4-6098-445e-98a8-e47b85ed0db3\" class=\"sk-toggleable__label sk-toggleable__label-arrow\">StandardScaler</label><div class=\"sk-toggleable__content\"><pre>StandardScaler()</pre></div></div></div></div></div></div></div></div><div class=\"sk-parallel-item\"><div class=\"sk-item\"><div class=\"sk-label-container\"><div class=\"sk-label sk-toggleable\"><input class=\"sk-toggleable__control sk-hidden--visually\" id=\"2f2ca403-689d-470c-b232-8c9acdeba8c1\" type=\"checkbox\" ><label for=\"2f2ca403-689d-470c-b232-8c9acdeba8c1\" class=\"sk-toggleable__label sk-toggleable__label-arrow\">pipeline-2</label><div class=\"sk-toggleable__content\"><pre>&lt;sklearn.compose._column_transformer.make_column_selector object at 0x7f8de0c73cd0&gt;</pre></div></div></div><div class=\"sk-serial\"><div class=\"sk-item\"><div class=\"sk-serial\"><div class=\"sk-item\"><div class=\"sk-estimator sk-toggleable\"><input class=\"sk-toggleable__control sk-hidden--visually\" id=\"e5563177-fb09-404e-8aec-3f81d027bf67\" type=\"checkbox\" ><label for=\"e5563177-fb09-404e-8aec-3f81d027bf67\" class=\"sk-toggleable__label sk-toggleable__label-arrow\">SimpleImputer</label><div class=\"sk-toggleable__content\"><pre>SimpleImputer(strategy=&#x27;most_frequent&#x27;)</pre></div></div></div><div class=\"sk-item\"><div class=\"sk-estimator sk-toggleable\"><input class=\"sk-toggleable__control sk-hidden--visually\" id=\"b4070e01-f40a-4965-8655-57e59010a6ee\" type=\"checkbox\" ><label for=\"b4070e01-f40a-4965-8655-57e59010a6ee\" class=\"sk-toggleable__label sk-toggleable__label-arrow\">OneHotEncoder</label><div class=\"sk-toggleable__content\"><pre>OneHotEncoder(handle_unknown=&#x27;ignore&#x27;, sparse=False)</pre></div></div></div></div></div></div></div></div></div></div></div></div>"
            ]
          },
          "metadata": {},
          "execution_count": 22
        }
      ]
    },
    {
      "cell_type": "code",
      "source": [
        "X_train_processed = preprocessor.transform(X_train)\n",
        "X_test_processed = preprocessor.transform(X_test)"
      ],
      "metadata": {
        "id": "VFxOR4UcRZmX"
      },
      "execution_count": null,
      "outputs": []
    },
    {
      "cell_type": "code",
      "source": [
        "print(np.isnan(X_train_processed).sum().sum(), 'missing values in training data')\n",
        "print(np.isnan(X_test_processed).sum().sum(), 'missing values in testing data')\n",
        "print('\\n')\n",
        "print('All data in X_train_processed are', X_train_processed.dtype)\n",
        "print('All data in X_test_processed are ', X_test_processed.dtype)\n",
        "print('\\n')\n",
        "print('shape of data is', X_train_processed.shape)\n",
        "print('\\n')\n",
        "X_train_processed"
      ],
      "metadata": {
        "colab": {
          "base_uri": "https://localhost:8080/"
        },
        "id": "WdX0gYD0Rtno",
        "outputId": "567e5569-ade1-4d71-fbde-6fc4c755b053"
      },
      "execution_count": null,
      "outputs": [
        {
          "output_type": "stream",
          "name": "stdout",
          "text": [
            "0 missing values in training data\n",
            "0 missing values in testing data\n",
            "\n",
            "\n",
            "All data in X_train_processed are float64\n",
            "All data in X_test_processed are  float64\n",
            "\n",
            "\n",
            "shape of data is (3487, 9)\n",
            "\n",
            "\n"
          ]
        },
        {
          "output_type": "execute_result",
          "data": {
            "text/plain": [
              "array([[-1.61873556, -0.73128047, -0.80142192, ...,  0.26115811,\n",
              "        -1.12318196, -0.50429807],\n",
              "       [ 1.6567808 , -0.73128047,  1.06509895, ...,  0.26115811,\n",
              "        -1.12318196, -0.50429807],\n",
              "       [-0.49444827,  1.36746439,  1.49877652, ...,  0.26115811,\n",
              "         1.11037121,  1.98295423],\n",
              "       ...,\n",
              "       [ 0.28752511, -0.73128047,  0.43911456, ...,  0.26115811,\n",
              "         1.11037121,  1.98295423],\n",
              "       [ 0.21264393, -0.73128047, -0.69794226, ...,  0.26115811,\n",
              "        -1.12318196, -0.50429807],\n",
              "       [-0.08688075, -0.73128047, -0.28145496, ...,  1.598395  ,\n",
              "         1.11037121, -0.50429807]])"
            ]
          },
          "metadata": {},
          "execution_count": 24
        }
      ]
    },
    {
      "cell_type": "code",
      "source": [
        "#OHE Ordinal\n",
        "cat_selector = make_column_selector(dtype_include='object')\n",
        "cat_selector(X_train)\n",
        "# create a subset of data for only categorical columns\n",
        "train_cat_data = X_train[cat_selector(X_train)]\n",
        "test_cat_data = X_test[cat_selector(X_test)]\n",
        "train_cat_data\n",
        "#instantiate one hot encoder\n",
        "ohe_encoder = OneHotEncoder(sparse=False, handle_unknown='ignore')\n",
        "#fit the OneHotEncoder on the training data\n",
        "ohe_encoder.fit(train_cat_data)\n",
        "#transform both the training and the testing data\n",
        "train_ohe = ohe_encoder.transform(train_cat_data)\n",
        "test_ohe = ohe_encoder.transform(test_cat_data)\n",
        "train_ohe\n",
        "\n",
        "\n"
      ],
      "metadata": {
        "colab": {
          "base_uri": "https://localhost:8080/"
        },
        "id": "8tskxf9OHL6P",
        "outputId": "db16a910-2cf9-478a-fe25-be6636566ad0"
      },
      "execution_count": null,
      "outputs": [
        {
          "output_type": "execute_result",
          "data": {
            "text/plain": [
              "array([], shape=(3487, 0), dtype=float64)"
            ]
          },
          "metadata": {},
          "execution_count": 25
        }
      ]
    },
    {
      "cell_type": "code",
      "source": [
        "#convert to dataframe\n",
        "ohe_column_names = ohe_encoder.get_feature_names_out(train_cat_data.columns)\n",
        "train_ohe = pd.DataFrame(train_ohe, columns=ohe_column_names)\n",
        "test_ohe = pd.DataFrame(test_ohe, columns=ohe_column_names)\n",
        "train_ohe"
      ],
      "metadata": {
        "id": "B3xmIT5pHZuJ",
        "colab": {
          "base_uri": "https://localhost:8080/",
          "height": 406
        },
        "outputId": "232eb4cf-a28e-47fa-dae2-a00f39f8f38c"
      },
      "execution_count": null,
      "outputs": [
        {
          "output_type": "execute_result",
          "data": {
            "text/plain": [
              "Empty DataFrame\n",
              "Columns: []\n",
              "Index: [0, 1, 2, 3, 4, 5, 6, 7, 8, 9, 10, 11, 12, 13, 14, 15, 16, 17, 18, 19, 20, 21, 22, 23, 24, 25, 26, 27, 28, 29, 30, 31, 32, 33, 34, 35, 36, 37, 38, 39, 40, 41, 42, 43, 44, 45, 46, 47, 48, 49, 50, 51, 52, 53, 54, 55, 56, 57, 58, 59, 60, 61, 62, 63, 64, 65, 66, 67, 68, 69, 70, 71, 72, 73, 74, 75, 76, 77, 78, 79, 80, 81, 82, 83, 84, 85, 86, 87, 88, 89, 90, 91, 92, 93, 94, 95, 96, 97, 98, 99, ...]\n",
              "\n",
              "[3487 rows x 0 columns]"
            ],
            "text/html": [
              "\n",
              "  <div id=\"df-ae43448f-9871-4c4b-911b-3622d6f84d6b\">\n",
              "    <div class=\"colab-df-container\">\n",
              "      <div>\n",
              "<style scoped>\n",
              "    .dataframe tbody tr th:only-of-type {\n",
              "        vertical-align: middle;\n",
              "    }\n",
              "\n",
              "    .dataframe tbody tr th {\n",
              "        vertical-align: top;\n",
              "    }\n",
              "\n",
              "    .dataframe thead th {\n",
              "        text-align: right;\n",
              "    }\n",
              "</style>\n",
              "<table border=\"1\" class=\"dataframe\">\n",
              "  <thead>\n",
              "    <tr style=\"text-align: right;\">\n",
              "      <th></th>\n",
              "    </tr>\n",
              "  </thead>\n",
              "  <tbody>\n",
              "    <tr>\n",
              "      <th>0</th>\n",
              "    </tr>\n",
              "    <tr>\n",
              "      <th>1</th>\n",
              "    </tr>\n",
              "    <tr>\n",
              "      <th>2</th>\n",
              "    </tr>\n",
              "    <tr>\n",
              "      <th>3</th>\n",
              "    </tr>\n",
              "    <tr>\n",
              "      <th>4</th>\n",
              "    </tr>\n",
              "    <tr>\n",
              "      <th>...</th>\n",
              "    </tr>\n",
              "    <tr>\n",
              "      <th>3482</th>\n",
              "    </tr>\n",
              "    <tr>\n",
              "      <th>3483</th>\n",
              "    </tr>\n",
              "    <tr>\n",
              "      <th>3484</th>\n",
              "    </tr>\n",
              "    <tr>\n",
              "      <th>3485</th>\n",
              "    </tr>\n",
              "    <tr>\n",
              "      <th>3486</th>\n",
              "    </tr>\n",
              "  </tbody>\n",
              "</table>\n",
              "<p>3487 rows × 0 columns</p>\n",
              "</div>\n",
              "      <button class=\"colab-df-convert\" onclick=\"convertToInteractive('df-ae43448f-9871-4c4b-911b-3622d6f84d6b')\"\n",
              "              title=\"Convert this dataframe to an interactive table.\"\n",
              "              style=\"display:none;\">\n",
              "        \n",
              "  <svg xmlns=\"http://www.w3.org/2000/svg\" height=\"24px\"viewBox=\"0 0 24 24\"\n",
              "       width=\"24px\">\n",
              "    <path d=\"M0 0h24v24H0V0z\" fill=\"none\"/>\n",
              "    <path d=\"M18.56 5.44l.94 2.06.94-2.06 2.06-.94-2.06-.94-.94-2.06-.94 2.06-2.06.94zm-11 1L8.5 8.5l.94-2.06 2.06-.94-2.06-.94L8.5 2.5l-.94 2.06-2.06.94zm10 10l.94 2.06.94-2.06 2.06-.94-2.06-.94-.94-2.06-.94 2.06-2.06.94z\"/><path d=\"M17.41 7.96l-1.37-1.37c-.4-.4-.92-.59-1.43-.59-.52 0-1.04.2-1.43.59L10.3 9.45l-7.72 7.72c-.78.78-.78 2.05 0 2.83L4 21.41c.39.39.9.59 1.41.59.51 0 1.02-.2 1.41-.59l7.78-7.78 2.81-2.81c.8-.78.8-2.07 0-2.86zM5.41 20L4 18.59l7.72-7.72 1.47 1.35L5.41 20z\"/>\n",
              "  </svg>\n",
              "      </button>\n",
              "      \n",
              "  <style>\n",
              "    .colab-df-container {\n",
              "      display:flex;\n",
              "      flex-wrap:wrap;\n",
              "      gap: 12px;\n",
              "    }\n",
              "\n",
              "    .colab-df-convert {\n",
              "      background-color: #E8F0FE;\n",
              "      border: none;\n",
              "      border-radius: 50%;\n",
              "      cursor: pointer;\n",
              "      display: none;\n",
              "      fill: #1967D2;\n",
              "      height: 32px;\n",
              "      padding: 0 0 0 0;\n",
              "      width: 32px;\n",
              "    }\n",
              "\n",
              "    .colab-df-convert:hover {\n",
              "      background-color: #E2EBFA;\n",
              "      box-shadow: 0px 1px 2px rgba(60, 64, 67, 0.3), 0px 1px 3px 1px rgba(60, 64, 67, 0.15);\n",
              "      fill: #174EA6;\n",
              "    }\n",
              "\n",
              "    [theme=dark] .colab-df-convert {\n",
              "      background-color: #3B4455;\n",
              "      fill: #D2E3FC;\n",
              "    }\n",
              "\n",
              "    [theme=dark] .colab-df-convert:hover {\n",
              "      background-color: #434B5C;\n",
              "      box-shadow: 0px 1px 3px 1px rgba(0, 0, 0, 0.15);\n",
              "      filter: drop-shadow(0px 1px 2px rgba(0, 0, 0, 0.3));\n",
              "      fill: #FFFFFF;\n",
              "    }\n",
              "  </style>\n",
              "\n",
              "      <script>\n",
              "        const buttonEl =\n",
              "          document.querySelector('#df-ae43448f-9871-4c4b-911b-3622d6f84d6b button.colab-df-convert');\n",
              "        buttonEl.style.display =\n",
              "          google.colab.kernel.accessAllowed ? 'block' : 'none';\n",
              "\n",
              "        async function convertToInteractive(key) {\n",
              "          const element = document.querySelector('#df-ae43448f-9871-4c4b-911b-3622d6f84d6b');\n",
              "          const dataTable =\n",
              "            await google.colab.kernel.invokeFunction('convertToInteractive',\n",
              "                                                     [key], {});\n",
              "          if (!dataTable) return;\n",
              "\n",
              "          const docLinkHtml = 'Like what you see? Visit the ' +\n",
              "            '<a target=\"_blank\" href=https://colab.research.google.com/notebooks/data_table.ipynb>data table notebook</a>'\n",
              "            + ' to learn more about interactive tables.';\n",
              "          element.innerHTML = '';\n",
              "          dataTable['output_type'] = 'display_data';\n",
              "          await google.colab.output.renderOutput(dataTable, element);\n",
              "          const docLink = document.createElement('div');\n",
              "          docLink.innerHTML = docLinkHtml;\n",
              "          element.appendChild(docLink);\n",
              "        }\n",
              "      </script>\n",
              "    </div>\n",
              "  </div>\n",
              "  "
            ]
          },
          "metadata": {},
          "execution_count": 26
        }
      ]
    },
    {
      "cell_type": "code",
      "source": [
        "# create a numeric selector\n",
        "num_selector = make_column_selector(dtype_include='number')\n",
        "# isolate the numeric columns\n",
        "train_nums = X_train[num_selector(X_train)].reset_index(drop=True)\n",
        "test_nums = X_test[num_selector(X_test)].reset_index(drop=True)\n",
        "# re-combine the train and test sets on axis 1 (columns)\n",
        "X_train_processed = pd.concat([train_nums, train_ohe], axis=1)\n",
        "X_test_processed = pd.concat([test_nums, test_ohe], axis=1)\n",
        "X_train_processed\n"
      ],
      "metadata": {
        "colab": {
          "base_uri": "https://localhost:8080/",
          "height": 488
        },
        "id": "w9QGSXfnHd66",
        "outputId": "1ac9819e-fd0f-41f9-c713-85f0b839ed18"
      },
      "execution_count": null,
      "outputs": [
        {
          "output_type": "execute_result",
          "data": {
            "text/plain": [
              "      Item_Weight  Item_Fat_Content  Item_Visibility  Item_Type  Item_MRP  \\\n",
              "0           5.440                 0         0.025520          4  238.7538   \n",
              "1          20.750                 0         0.108879         13  161.5578   \n",
              "2          10.695                 1         0.128247          4  121.8440   \n",
              "3          15.750                 0         0.166514          4   38.0506   \n",
              "4          11.500                 1         0.000000          4   88.2540   \n",
              "...           ...               ...              ...        ...       ...   \n",
              "3482       12.600                 0         0.024293          4   33.4874   \n",
              "3483       19.850                 1         0.020961         13   62.0194   \n",
              "3484       14.350                 0         0.080922          0   80.0960   \n",
              "3485       14.000                 0         0.030141          6  216.0192   \n",
              "3486       12.600                 0         0.048741          1   60.4194   \n",
              "\n",
              "      Outlet_Establishment_Year  Outlet_Size  Outlet_Location_Type  \\\n",
              "0                          1999            1                     0   \n",
              "1                          1999            1                     0   \n",
              "2                          2009            1                     2   \n",
              "3                          2009            1                     2   \n",
              "4                          1997            0                     0   \n",
              "...                         ...          ...                   ...   \n",
              "3482                       2009            1                     2   \n",
              "3483                       2009            1                     2   \n",
              "3484                       2009            1                     2   \n",
              "3485                       1999            1                     0   \n",
              "3486                       1987            2                     2   \n",
              "\n",
              "      Outlet_Type  \n",
              "0               0  \n",
              "1               0  \n",
              "2               1  \n",
              "3               1  \n",
              "4               0  \n",
              "...           ...  \n",
              "3482            1  \n",
              "3483            1  \n",
              "3484            1  \n",
              "3485            0  \n",
              "3486            0  \n",
              "\n",
              "[3487 rows x 9 columns]"
            ],
            "text/html": [
              "\n",
              "  <div id=\"df-f62149c4-f307-4450-9e64-ede3f16d1e53\">\n",
              "    <div class=\"colab-df-container\">\n",
              "      <div>\n",
              "<style scoped>\n",
              "    .dataframe tbody tr th:only-of-type {\n",
              "        vertical-align: middle;\n",
              "    }\n",
              "\n",
              "    .dataframe tbody tr th {\n",
              "        vertical-align: top;\n",
              "    }\n",
              "\n",
              "    .dataframe thead th {\n",
              "        text-align: right;\n",
              "    }\n",
              "</style>\n",
              "<table border=\"1\" class=\"dataframe\">\n",
              "  <thead>\n",
              "    <tr style=\"text-align: right;\">\n",
              "      <th></th>\n",
              "      <th>Item_Weight</th>\n",
              "      <th>Item_Fat_Content</th>\n",
              "      <th>Item_Visibility</th>\n",
              "      <th>Item_Type</th>\n",
              "      <th>Item_MRP</th>\n",
              "      <th>Outlet_Establishment_Year</th>\n",
              "      <th>Outlet_Size</th>\n",
              "      <th>Outlet_Location_Type</th>\n",
              "      <th>Outlet_Type</th>\n",
              "    </tr>\n",
              "  </thead>\n",
              "  <tbody>\n",
              "    <tr>\n",
              "      <th>0</th>\n",
              "      <td>5.440</td>\n",
              "      <td>0</td>\n",
              "      <td>0.025520</td>\n",
              "      <td>4</td>\n",
              "      <td>238.7538</td>\n",
              "      <td>1999</td>\n",
              "      <td>1</td>\n",
              "      <td>0</td>\n",
              "      <td>0</td>\n",
              "    </tr>\n",
              "    <tr>\n",
              "      <th>1</th>\n",
              "      <td>20.750</td>\n",
              "      <td>0</td>\n",
              "      <td>0.108879</td>\n",
              "      <td>13</td>\n",
              "      <td>161.5578</td>\n",
              "      <td>1999</td>\n",
              "      <td>1</td>\n",
              "      <td>0</td>\n",
              "      <td>0</td>\n",
              "    </tr>\n",
              "    <tr>\n",
              "      <th>2</th>\n",
              "      <td>10.695</td>\n",
              "      <td>1</td>\n",
              "      <td>0.128247</td>\n",
              "      <td>4</td>\n",
              "      <td>121.8440</td>\n",
              "      <td>2009</td>\n",
              "      <td>1</td>\n",
              "      <td>2</td>\n",
              "      <td>1</td>\n",
              "    </tr>\n",
              "    <tr>\n",
              "      <th>3</th>\n",
              "      <td>15.750</td>\n",
              "      <td>0</td>\n",
              "      <td>0.166514</td>\n",
              "      <td>4</td>\n",
              "      <td>38.0506</td>\n",
              "      <td>2009</td>\n",
              "      <td>1</td>\n",
              "      <td>2</td>\n",
              "      <td>1</td>\n",
              "    </tr>\n",
              "    <tr>\n",
              "      <th>4</th>\n",
              "      <td>11.500</td>\n",
              "      <td>1</td>\n",
              "      <td>0.000000</td>\n",
              "      <td>4</td>\n",
              "      <td>88.2540</td>\n",
              "      <td>1997</td>\n",
              "      <td>0</td>\n",
              "      <td>0</td>\n",
              "      <td>0</td>\n",
              "    </tr>\n",
              "    <tr>\n",
              "      <th>...</th>\n",
              "      <td>...</td>\n",
              "      <td>...</td>\n",
              "      <td>...</td>\n",
              "      <td>...</td>\n",
              "      <td>...</td>\n",
              "      <td>...</td>\n",
              "      <td>...</td>\n",
              "      <td>...</td>\n",
              "      <td>...</td>\n",
              "    </tr>\n",
              "    <tr>\n",
              "      <th>3482</th>\n",
              "      <td>12.600</td>\n",
              "      <td>0</td>\n",
              "      <td>0.024293</td>\n",
              "      <td>4</td>\n",
              "      <td>33.4874</td>\n",
              "      <td>2009</td>\n",
              "      <td>1</td>\n",
              "      <td>2</td>\n",
              "      <td>1</td>\n",
              "    </tr>\n",
              "    <tr>\n",
              "      <th>3483</th>\n",
              "      <td>19.850</td>\n",
              "      <td>1</td>\n",
              "      <td>0.020961</td>\n",
              "      <td>13</td>\n",
              "      <td>62.0194</td>\n",
              "      <td>2009</td>\n",
              "      <td>1</td>\n",
              "      <td>2</td>\n",
              "      <td>1</td>\n",
              "    </tr>\n",
              "    <tr>\n",
              "      <th>3484</th>\n",
              "      <td>14.350</td>\n",
              "      <td>0</td>\n",
              "      <td>0.080922</td>\n",
              "      <td>0</td>\n",
              "      <td>80.0960</td>\n",
              "      <td>2009</td>\n",
              "      <td>1</td>\n",
              "      <td>2</td>\n",
              "      <td>1</td>\n",
              "    </tr>\n",
              "    <tr>\n",
              "      <th>3485</th>\n",
              "      <td>14.000</td>\n",
              "      <td>0</td>\n",
              "      <td>0.030141</td>\n",
              "      <td>6</td>\n",
              "      <td>216.0192</td>\n",
              "      <td>1999</td>\n",
              "      <td>1</td>\n",
              "      <td>0</td>\n",
              "      <td>0</td>\n",
              "    </tr>\n",
              "    <tr>\n",
              "      <th>3486</th>\n",
              "      <td>12.600</td>\n",
              "      <td>0</td>\n",
              "      <td>0.048741</td>\n",
              "      <td>1</td>\n",
              "      <td>60.4194</td>\n",
              "      <td>1987</td>\n",
              "      <td>2</td>\n",
              "      <td>2</td>\n",
              "      <td>0</td>\n",
              "    </tr>\n",
              "  </tbody>\n",
              "</table>\n",
              "<p>3487 rows × 9 columns</p>\n",
              "</div>\n",
              "      <button class=\"colab-df-convert\" onclick=\"convertToInteractive('df-f62149c4-f307-4450-9e64-ede3f16d1e53')\"\n",
              "              title=\"Convert this dataframe to an interactive table.\"\n",
              "              style=\"display:none;\">\n",
              "        \n",
              "  <svg xmlns=\"http://www.w3.org/2000/svg\" height=\"24px\"viewBox=\"0 0 24 24\"\n",
              "       width=\"24px\">\n",
              "    <path d=\"M0 0h24v24H0V0z\" fill=\"none\"/>\n",
              "    <path d=\"M18.56 5.44l.94 2.06.94-2.06 2.06-.94-2.06-.94-.94-2.06-.94 2.06-2.06.94zm-11 1L8.5 8.5l.94-2.06 2.06-.94-2.06-.94L8.5 2.5l-.94 2.06-2.06.94zm10 10l.94 2.06.94-2.06 2.06-.94-2.06-.94-.94-2.06-.94 2.06-2.06.94z\"/><path d=\"M17.41 7.96l-1.37-1.37c-.4-.4-.92-.59-1.43-.59-.52 0-1.04.2-1.43.59L10.3 9.45l-7.72 7.72c-.78.78-.78 2.05 0 2.83L4 21.41c.39.39.9.59 1.41.59.51 0 1.02-.2 1.41-.59l7.78-7.78 2.81-2.81c.8-.78.8-2.07 0-2.86zM5.41 20L4 18.59l7.72-7.72 1.47 1.35L5.41 20z\"/>\n",
              "  </svg>\n",
              "      </button>\n",
              "      \n",
              "  <style>\n",
              "    .colab-df-container {\n",
              "      display:flex;\n",
              "      flex-wrap:wrap;\n",
              "      gap: 12px;\n",
              "    }\n",
              "\n",
              "    .colab-df-convert {\n",
              "      background-color: #E8F0FE;\n",
              "      border: none;\n",
              "      border-radius: 50%;\n",
              "      cursor: pointer;\n",
              "      display: none;\n",
              "      fill: #1967D2;\n",
              "      height: 32px;\n",
              "      padding: 0 0 0 0;\n",
              "      width: 32px;\n",
              "    }\n",
              "\n",
              "    .colab-df-convert:hover {\n",
              "      background-color: #E2EBFA;\n",
              "      box-shadow: 0px 1px 2px rgba(60, 64, 67, 0.3), 0px 1px 3px 1px rgba(60, 64, 67, 0.15);\n",
              "      fill: #174EA6;\n",
              "    }\n",
              "\n",
              "    [theme=dark] .colab-df-convert {\n",
              "      background-color: #3B4455;\n",
              "      fill: #D2E3FC;\n",
              "    }\n",
              "\n",
              "    [theme=dark] .colab-df-convert:hover {\n",
              "      background-color: #434B5C;\n",
              "      box-shadow: 0px 1px 3px 1px rgba(0, 0, 0, 0.15);\n",
              "      filter: drop-shadow(0px 1px 2px rgba(0, 0, 0, 0.3));\n",
              "      fill: #FFFFFF;\n",
              "    }\n",
              "  </style>\n",
              "\n",
              "      <script>\n",
              "        const buttonEl =\n",
              "          document.querySelector('#df-f62149c4-f307-4450-9e64-ede3f16d1e53 button.colab-df-convert');\n",
              "        buttonEl.style.display =\n",
              "          google.colab.kernel.accessAllowed ? 'block' : 'none';\n",
              "\n",
              "        async function convertToInteractive(key) {\n",
              "          const element = document.querySelector('#df-f62149c4-f307-4450-9e64-ede3f16d1e53');\n",
              "          const dataTable =\n",
              "            await google.colab.kernel.invokeFunction('convertToInteractive',\n",
              "                                                     [key], {});\n",
              "          if (!dataTable) return;\n",
              "\n",
              "          const docLinkHtml = 'Like what you see? Visit the ' +\n",
              "            '<a target=\"_blank\" href=https://colab.research.google.com/notebooks/data_table.ipynb>data table notebook</a>'\n",
              "            + ' to learn more about interactive tables.';\n",
              "          element.innerHTML = '';\n",
              "          dataTable['output_type'] = 'display_data';\n",
              "          await google.colab.output.renderOutput(dataTable, element);\n",
              "          const docLink = document.createElement('div');\n",
              "          docLink.innerHTML = docLinkHtml;\n",
              "          element.appendChild(docLink);\n",
              "        }\n",
              "      </script>\n",
              "    </div>\n",
              "  </div>\n",
              "  "
            ]
          },
          "metadata": {},
          "execution_count": 27
        }
      ]
    },
    {
      "cell_type": "code",
      "source": [
        "cat_selector = make_column_selector(dtype_include='object')\n",
        "num_selector = make_column_selector(dtype_include='number')\n",
        "\n",
        "ohe = OneHotEncoder(sparse=False, handle_unknown='ignore')\n",
        "scaler = StandardScaler()\n",
        "\n",
        "\n",
        "# Use 2 tuples, one for numeric and one for categorical\n",
        "ohe_tuple = (ohe, cat_selector)\n",
        "scaler_tuple = (scaler, num_selector)\n",
        "\n",
        "# Combine the pipelines in a ColumnTransformer with the appropriate column selectors\n",
        "transformer = make_column_transformer(scaler_tuple, ohe_tuple, remainder='passthrough')"
      ],
      "metadata": {
        "id": "UMqo8A_SBnhH"
      },
      "execution_count": null,
      "outputs": []
    },
    {
      "cell_type": "code",
      "source": [
        "transformer.fit(X_train)\n",
        "final_cols = transformer.get_feature_names_out()"
      ],
      "metadata": {
        "id": "m5UdDgy7FAHk"
      },
      "execution_count": null,
      "outputs": []
    },
    {
      "cell_type": "markdown",
      "source": [
        "1) Your first task is to build a linear regression model to predict sales.\n",
        "\n",
        "Build a linear regression model. Evaluate the performance of your model based on r^2. Evaluate the performance of your model based on rmse."
      ],
      "metadata": {
        "id": "1iLnvFO-DPx2"
      }
    },
    {
      "cell_type": "code",
      "source": [
        "# instantiate a baseline model using the 'mean' strategy\n",
        "from sklearn.dummy import DummyRegressor\n",
        "\n",
        "dummy = DummyRegressor(strategy='mean')\n",
        "# put your ColumnTransformer and the baseline model into a pipeline\n",
        "base_pipe = make_pipeline(transformer, dummy)\n",
        "\n",
        "# fit your pipe onto the training data\n",
        "base_pipe.fit(X_train, y_train)"
      ],
      "metadata": {
        "colab": {
          "base_uri": "https://localhost:8080/",
          "height": 192
        },
        "id": "5gWa3c_tB3Kq",
        "outputId": "8089bc49-bc63-4e59-b883-38cb6c48e5f9"
      },
      "execution_count": null,
      "outputs": [
        {
          "output_type": "execute_result",
          "data": {
            "text/plain": [
              "Pipeline(steps=[('columntransformer',\n",
              "                 ColumnTransformer(remainder='passthrough',\n",
              "                                   transformers=[('standardscaler',\n",
              "                                                  StandardScaler(),\n",
              "                                                  <sklearn.compose._column_transformer.make_column_selector object at 0x7f8de0a9ffd0>),\n",
              "                                                 ('onehotencoder',\n",
              "                                                  OneHotEncoder(handle_unknown='ignore',\n",
              "                                                                sparse=False),\n",
              "                                                  <sklearn.compose._column_transformer.make_column_selector object at 0x7f8de0a9f650>)])),\n",
              "                ('dummyregressor', DummyRegressor())])"
            ],
            "text/html": [
              "<style>#sk-5e6df9ae-86f4-46ac-8369-5452edec1e23 {color: black;background-color: white;}#sk-5e6df9ae-86f4-46ac-8369-5452edec1e23 pre{padding: 0;}#sk-5e6df9ae-86f4-46ac-8369-5452edec1e23 div.sk-toggleable {background-color: white;}#sk-5e6df9ae-86f4-46ac-8369-5452edec1e23 label.sk-toggleable__label {cursor: pointer;display: block;width: 100%;margin-bottom: 0;padding: 0.3em;box-sizing: border-box;text-align: center;}#sk-5e6df9ae-86f4-46ac-8369-5452edec1e23 label.sk-toggleable__label-arrow:before {content: \"▸\";float: left;margin-right: 0.25em;color: #696969;}#sk-5e6df9ae-86f4-46ac-8369-5452edec1e23 label.sk-toggleable__label-arrow:hover:before {color: black;}#sk-5e6df9ae-86f4-46ac-8369-5452edec1e23 div.sk-estimator:hover label.sk-toggleable__label-arrow:before {color: black;}#sk-5e6df9ae-86f4-46ac-8369-5452edec1e23 div.sk-toggleable__content {max-height: 0;max-width: 0;overflow: hidden;text-align: left;background-color: #f0f8ff;}#sk-5e6df9ae-86f4-46ac-8369-5452edec1e23 div.sk-toggleable__content pre {margin: 0.2em;color: black;border-radius: 0.25em;background-color: #f0f8ff;}#sk-5e6df9ae-86f4-46ac-8369-5452edec1e23 input.sk-toggleable__control:checked~div.sk-toggleable__content {max-height: 200px;max-width: 100%;overflow: auto;}#sk-5e6df9ae-86f4-46ac-8369-5452edec1e23 input.sk-toggleable__control:checked~label.sk-toggleable__label-arrow:before {content: \"▾\";}#sk-5e6df9ae-86f4-46ac-8369-5452edec1e23 div.sk-estimator input.sk-toggleable__control:checked~label.sk-toggleable__label {background-color: #d4ebff;}#sk-5e6df9ae-86f4-46ac-8369-5452edec1e23 div.sk-label input.sk-toggleable__control:checked~label.sk-toggleable__label {background-color: #d4ebff;}#sk-5e6df9ae-86f4-46ac-8369-5452edec1e23 input.sk-hidden--visually {border: 0;clip: rect(1px 1px 1px 1px);clip: rect(1px, 1px, 1px, 1px);height: 1px;margin: -1px;overflow: hidden;padding: 0;position: absolute;width: 1px;}#sk-5e6df9ae-86f4-46ac-8369-5452edec1e23 div.sk-estimator {font-family: monospace;background-color: #f0f8ff;border: 1px dotted black;border-radius: 0.25em;box-sizing: border-box;margin-bottom: 0.5em;}#sk-5e6df9ae-86f4-46ac-8369-5452edec1e23 div.sk-estimator:hover {background-color: #d4ebff;}#sk-5e6df9ae-86f4-46ac-8369-5452edec1e23 div.sk-parallel-item::after {content: \"\";width: 100%;border-bottom: 1px solid gray;flex-grow: 1;}#sk-5e6df9ae-86f4-46ac-8369-5452edec1e23 div.sk-label:hover label.sk-toggleable__label {background-color: #d4ebff;}#sk-5e6df9ae-86f4-46ac-8369-5452edec1e23 div.sk-serial::before {content: \"\";position: absolute;border-left: 1px solid gray;box-sizing: border-box;top: 2em;bottom: 0;left: 50%;}#sk-5e6df9ae-86f4-46ac-8369-5452edec1e23 div.sk-serial {display: flex;flex-direction: column;align-items: center;background-color: white;padding-right: 0.2em;padding-left: 0.2em;}#sk-5e6df9ae-86f4-46ac-8369-5452edec1e23 div.sk-item {z-index: 1;}#sk-5e6df9ae-86f4-46ac-8369-5452edec1e23 div.sk-parallel {display: flex;align-items: stretch;justify-content: center;background-color: white;}#sk-5e6df9ae-86f4-46ac-8369-5452edec1e23 div.sk-parallel::before {content: \"\";position: absolute;border-left: 1px solid gray;box-sizing: border-box;top: 2em;bottom: 0;left: 50%;}#sk-5e6df9ae-86f4-46ac-8369-5452edec1e23 div.sk-parallel-item {display: flex;flex-direction: column;position: relative;background-color: white;}#sk-5e6df9ae-86f4-46ac-8369-5452edec1e23 div.sk-parallel-item:first-child::after {align-self: flex-end;width: 50%;}#sk-5e6df9ae-86f4-46ac-8369-5452edec1e23 div.sk-parallel-item:last-child::after {align-self: flex-start;width: 50%;}#sk-5e6df9ae-86f4-46ac-8369-5452edec1e23 div.sk-parallel-item:only-child::after {width: 0;}#sk-5e6df9ae-86f4-46ac-8369-5452edec1e23 div.sk-dashed-wrapped {border: 1px dashed gray;margin: 0 0.4em 0.5em 0.4em;box-sizing: border-box;padding-bottom: 0.4em;background-color: white;position: relative;}#sk-5e6df9ae-86f4-46ac-8369-5452edec1e23 div.sk-label label {font-family: monospace;font-weight: bold;background-color: white;display: inline-block;line-height: 1.2em;}#sk-5e6df9ae-86f4-46ac-8369-5452edec1e23 div.sk-label-container {position: relative;z-index: 2;text-align: center;}#sk-5e6df9ae-86f4-46ac-8369-5452edec1e23 div.sk-container {/* jupyter's `normalize.less` sets `[hidden] { display: none; }` but bootstrap.min.css set `[hidden] { display: none !important; }` so we also need the `!important` here to be able to override the default hidden behavior on the sphinx rendered scikit-learn.org. See: https://github.com/scikit-learn/scikit-learn/issues/21755 */display: inline-block !important;position: relative;}#sk-5e6df9ae-86f4-46ac-8369-5452edec1e23 div.sk-text-repr-fallback {display: none;}</style><div id=\"sk-5e6df9ae-86f4-46ac-8369-5452edec1e23\" class=\"sk-top-container\"><div class=\"sk-text-repr-fallback\"><pre>Pipeline(steps=[(&#x27;columntransformer&#x27;,\n",
              "                 ColumnTransformer(remainder=&#x27;passthrough&#x27;,\n",
              "                                   transformers=[(&#x27;standardscaler&#x27;,\n",
              "                                                  StandardScaler(),\n",
              "                                                  &lt;sklearn.compose._column_transformer.make_column_selector object at 0x7f8de0a9ffd0&gt;),\n",
              "                                                 (&#x27;onehotencoder&#x27;,\n",
              "                                                  OneHotEncoder(handle_unknown=&#x27;ignore&#x27;,\n",
              "                                                                sparse=False),\n",
              "                                                  &lt;sklearn.compose._column_transformer.make_column_selector object at 0x7f8de0a9f650&gt;)])),\n",
              "                (&#x27;dummyregressor&#x27;, DummyRegressor())])</pre><b>Please rerun this cell to show the HTML repr or trust the notebook.</b></div><div class=\"sk-container\" hidden><div class=\"sk-item sk-dashed-wrapped\"><div class=\"sk-label-container\"><div class=\"sk-label sk-toggleable\"><input class=\"sk-toggleable__control sk-hidden--visually\" id=\"4009657e-4141-40d1-b360-9727282782bd\" type=\"checkbox\" ><label for=\"4009657e-4141-40d1-b360-9727282782bd\" class=\"sk-toggleable__label sk-toggleable__label-arrow\">Pipeline</label><div class=\"sk-toggleable__content\"><pre>Pipeline(steps=[(&#x27;columntransformer&#x27;,\n",
              "                 ColumnTransformer(remainder=&#x27;passthrough&#x27;,\n",
              "                                   transformers=[(&#x27;standardscaler&#x27;,\n",
              "                                                  StandardScaler(),\n",
              "                                                  &lt;sklearn.compose._column_transformer.make_column_selector object at 0x7f8de0a9ffd0&gt;),\n",
              "                                                 (&#x27;onehotencoder&#x27;,\n",
              "                                                  OneHotEncoder(handle_unknown=&#x27;ignore&#x27;,\n",
              "                                                                sparse=False),\n",
              "                                                  &lt;sklearn.compose._column_transformer.make_column_selector object at 0x7f8de0a9f650&gt;)])),\n",
              "                (&#x27;dummyregressor&#x27;, DummyRegressor())])</pre></div></div></div><div class=\"sk-serial\"><div class=\"sk-item sk-dashed-wrapped\"><div class=\"sk-label-container\"><div class=\"sk-label sk-toggleable\"><input class=\"sk-toggleable__control sk-hidden--visually\" id=\"2d6ac57f-c15f-404b-a3c1-81ebe79d2384\" type=\"checkbox\" ><label for=\"2d6ac57f-c15f-404b-a3c1-81ebe79d2384\" class=\"sk-toggleable__label sk-toggleable__label-arrow\">columntransformer: ColumnTransformer</label><div class=\"sk-toggleable__content\"><pre>ColumnTransformer(remainder=&#x27;passthrough&#x27;,\n",
              "                  transformers=[(&#x27;standardscaler&#x27;, StandardScaler(),\n",
              "                                 &lt;sklearn.compose._column_transformer.make_column_selector object at 0x7f8de0a9ffd0&gt;),\n",
              "                                (&#x27;onehotencoder&#x27;,\n",
              "                                 OneHotEncoder(handle_unknown=&#x27;ignore&#x27;,\n",
              "                                               sparse=False),\n",
              "                                 &lt;sklearn.compose._column_transformer.make_column_selector object at 0x7f8de0a9f650&gt;)])</pre></div></div></div><div class=\"sk-parallel\"><div class=\"sk-parallel-item\"><div class=\"sk-item\"><div class=\"sk-label-container\"><div class=\"sk-label sk-toggleable\"><input class=\"sk-toggleable__control sk-hidden--visually\" id=\"d0190362-6f1a-4a38-927c-47264da9467e\" type=\"checkbox\" ><label for=\"d0190362-6f1a-4a38-927c-47264da9467e\" class=\"sk-toggleable__label sk-toggleable__label-arrow\">standardscaler</label><div class=\"sk-toggleable__content\"><pre>&lt;sklearn.compose._column_transformer.make_column_selector object at 0x7f8de0a9ffd0&gt;</pre></div></div></div><div class=\"sk-serial\"><div class=\"sk-item\"><div class=\"sk-estimator sk-toggleable\"><input class=\"sk-toggleable__control sk-hidden--visually\" id=\"a0397949-e130-4b53-82dd-4e46135dfc85\" type=\"checkbox\" ><label for=\"a0397949-e130-4b53-82dd-4e46135dfc85\" class=\"sk-toggleable__label sk-toggleable__label-arrow\">StandardScaler</label><div class=\"sk-toggleable__content\"><pre>StandardScaler()</pre></div></div></div></div></div></div><div class=\"sk-parallel-item\"><div class=\"sk-item\"><div class=\"sk-label-container\"><div class=\"sk-label sk-toggleable\"><input class=\"sk-toggleable__control sk-hidden--visually\" id=\"91cf9dd3-2ee7-4190-89d1-4b810a9c3cfc\" type=\"checkbox\" ><label for=\"91cf9dd3-2ee7-4190-89d1-4b810a9c3cfc\" class=\"sk-toggleable__label sk-toggleable__label-arrow\">onehotencoder</label><div class=\"sk-toggleable__content\"><pre>&lt;sklearn.compose._column_transformer.make_column_selector object at 0x7f8de0a9f650&gt;</pre></div></div></div><div class=\"sk-serial\"><div class=\"sk-item\"><div class=\"sk-estimator sk-toggleable\"><input class=\"sk-toggleable__control sk-hidden--visually\" id=\"a2631d99-ef12-4d51-a2de-640fd2ea8d34\" type=\"checkbox\" ><label for=\"a2631d99-ef12-4d51-a2de-640fd2ea8d34\" class=\"sk-toggleable__label sk-toggleable__label-arrow\">OneHotEncoder</label><div class=\"sk-toggleable__content\"><pre>OneHotEncoder(handle_unknown=&#x27;ignore&#x27;, sparse=False)</pre></div></div></div></div></div></div><div class=\"sk-parallel-item\"><div class=\"sk-item\"><div class=\"sk-label-container\"><div class=\"sk-label sk-toggleable\"><input class=\"sk-toggleable__control sk-hidden--visually\" id=\"46aa9d08-1ea0-4462-b56e-e0236679f12b\" type=\"checkbox\" ><label for=\"46aa9d08-1ea0-4462-b56e-e0236679f12b\" class=\"sk-toggleable__label sk-toggleable__label-arrow\">remainder</label><div class=\"sk-toggleable__content\"><pre>[]</pre></div></div></div><div class=\"sk-serial\"><div class=\"sk-item\"><div class=\"sk-estimator sk-toggleable\"><input class=\"sk-toggleable__control sk-hidden--visually\" id=\"450d50d1-5609-4951-8146-3d1d6425ac94\" type=\"checkbox\" ><label for=\"450d50d1-5609-4951-8146-3d1d6425ac94\" class=\"sk-toggleable__label sk-toggleable__label-arrow\">passthrough</label><div class=\"sk-toggleable__content\"><pre>passthrough</pre></div></div></div></div></div></div></div></div><div class=\"sk-item\"><div class=\"sk-estimator sk-toggleable\"><input class=\"sk-toggleable__control sk-hidden--visually\" id=\"e458251b-8003-49cf-a0b0-afb28c3f8dec\" type=\"checkbox\" ><label for=\"e458251b-8003-49cf-a0b0-afb28c3f8dec\" class=\"sk-toggleable__label sk-toggleable__label-arrow\">DummyRegressor</label><div class=\"sk-toggleable__content\"><pre>DummyRegressor()</pre></div></div></div></div></div></div></div>"
            ]
          },
          "metadata": {},
          "execution_count": 30
        }
      ]
    },
    {
      "cell_type": "code",
      "source": [
        "from sklearn.metrics import mean_absolute_error, mean_squared_error, r2_score"
      ],
      "metadata": {
        "id": "KWHgBTMCCKOL"
      },
      "execution_count": null,
      "outputs": []
    },
    {
      "cell_type": "code",
      "source": [
        "# define a function that takes true and predicted values as arguments\n",
        "\n",
        "def eval_model(true, pred):\n",
        "  mae = mean_absolute_error(true, pred)\n",
        "  mse = mean_squared_error(true, pred)\n",
        "  rmse = np.sqrt(mse)\n",
        "  r2 = r2_score(true, pred)\n",
        "\n",
        "  print(f'MAE: {mae:,.2f} \\n MSE: {mse:,.2f} \\n RMSE: {rmse:,.2f} \\n R2: {r2:,.2f} ')\n",
        "\n",
        "\n",
        "# and prints all 4 metrics"
      ],
      "metadata": {
        "id": "pSzjMhINB_Gt"
      },
      "execution_count": null,
      "outputs": []
    },
    {
      "cell_type": "code",
      "source": [
        "# find MAE, MSE, RMSE and R2 on the baseline model for both the train and test data\n",
        "print('Train Evaluation')\n",
        "\n",
        "eval_model(y_train, base_pipe.predict(X_train))\n",
        "\n",
        "print('\\n Test Evaluation')\n",
        "\n",
        "eval_model(y_test, base_pipe.predict(X_test))"
      ],
      "metadata": {
        "colab": {
          "base_uri": "https://localhost:8080/"
        },
        "id": "zi-_5imDCCoY",
        "outputId": "0c9779d9-2d2b-4da0-b0ad-bf49f51fd380"
      },
      "execution_count": null,
      "outputs": [
        {
          "output_type": "stream",
          "name": "stdout",
          "text": [
            "Train Evaluation\n",
            "MAE: 1,194.96 \n",
            " MSE: 2,250,745.79 \n",
            " RMSE: 1,500.25 \n",
            " R2: 0.00 \n",
            "\n",
            " Test Evaluation\n",
            "MAE: 1,196.68 \n",
            " MSE: 2,221,487.68 \n",
            " RMSE: 1,490.47 \n",
            " R2: -0.00 \n"
          ]
        }
      ]
    },
    {
      "cell_type": "code",
      "source": [
        "from sklearn.linear_model import LinearRegression"
      ],
      "metadata": {
        "id": "Mfj5xPYbCUu7"
      },
      "execution_count": null,
      "outputs": []
    },
    {
      "cell_type": "code",
      "source": [
        "lin_reg = make_pipeline(transformer, LinearRegression())\n",
        "\n",
        "lin_reg.fit(X_train, y_train)"
      ],
      "metadata": {
        "colab": {
          "base_uri": "https://localhost:8080/",
          "height": 192
        },
        "id": "W_H_ctSHCMLi",
        "outputId": "29d52db7-c694-4871-a1c6-fbfcf72835b7"
      },
      "execution_count": null,
      "outputs": [
        {
          "output_type": "execute_result",
          "data": {
            "text/plain": [
              "Pipeline(steps=[('columntransformer',\n",
              "                 ColumnTransformer(remainder='passthrough',\n",
              "                                   transformers=[('standardscaler',\n",
              "                                                  StandardScaler(),\n",
              "                                                  <sklearn.compose._column_transformer.make_column_selector object at 0x7f8de0a9ffd0>),\n",
              "                                                 ('onehotencoder',\n",
              "                                                  OneHotEncoder(handle_unknown='ignore',\n",
              "                                                                sparse=False),\n",
              "                                                  <sklearn.compose._column_transformer.make_column_selector object at 0x7f8de0a9f650>)])),\n",
              "                ('linearregression', LinearRegression())])"
            ],
            "text/html": [
              "<style>#sk-579fed54-657b-48ca-ad92-eb2c7fcce215 {color: black;background-color: white;}#sk-579fed54-657b-48ca-ad92-eb2c7fcce215 pre{padding: 0;}#sk-579fed54-657b-48ca-ad92-eb2c7fcce215 div.sk-toggleable {background-color: white;}#sk-579fed54-657b-48ca-ad92-eb2c7fcce215 label.sk-toggleable__label {cursor: pointer;display: block;width: 100%;margin-bottom: 0;padding: 0.3em;box-sizing: border-box;text-align: center;}#sk-579fed54-657b-48ca-ad92-eb2c7fcce215 label.sk-toggleable__label-arrow:before {content: \"▸\";float: left;margin-right: 0.25em;color: #696969;}#sk-579fed54-657b-48ca-ad92-eb2c7fcce215 label.sk-toggleable__label-arrow:hover:before {color: black;}#sk-579fed54-657b-48ca-ad92-eb2c7fcce215 div.sk-estimator:hover label.sk-toggleable__label-arrow:before {color: black;}#sk-579fed54-657b-48ca-ad92-eb2c7fcce215 div.sk-toggleable__content {max-height: 0;max-width: 0;overflow: hidden;text-align: left;background-color: #f0f8ff;}#sk-579fed54-657b-48ca-ad92-eb2c7fcce215 div.sk-toggleable__content pre {margin: 0.2em;color: black;border-radius: 0.25em;background-color: #f0f8ff;}#sk-579fed54-657b-48ca-ad92-eb2c7fcce215 input.sk-toggleable__control:checked~div.sk-toggleable__content {max-height: 200px;max-width: 100%;overflow: auto;}#sk-579fed54-657b-48ca-ad92-eb2c7fcce215 input.sk-toggleable__control:checked~label.sk-toggleable__label-arrow:before {content: \"▾\";}#sk-579fed54-657b-48ca-ad92-eb2c7fcce215 div.sk-estimator input.sk-toggleable__control:checked~label.sk-toggleable__label {background-color: #d4ebff;}#sk-579fed54-657b-48ca-ad92-eb2c7fcce215 div.sk-label input.sk-toggleable__control:checked~label.sk-toggleable__label {background-color: #d4ebff;}#sk-579fed54-657b-48ca-ad92-eb2c7fcce215 input.sk-hidden--visually {border: 0;clip: rect(1px 1px 1px 1px);clip: rect(1px, 1px, 1px, 1px);height: 1px;margin: -1px;overflow: hidden;padding: 0;position: absolute;width: 1px;}#sk-579fed54-657b-48ca-ad92-eb2c7fcce215 div.sk-estimator {font-family: monospace;background-color: #f0f8ff;border: 1px dotted black;border-radius: 0.25em;box-sizing: border-box;margin-bottom: 0.5em;}#sk-579fed54-657b-48ca-ad92-eb2c7fcce215 div.sk-estimator:hover {background-color: #d4ebff;}#sk-579fed54-657b-48ca-ad92-eb2c7fcce215 div.sk-parallel-item::after {content: \"\";width: 100%;border-bottom: 1px solid gray;flex-grow: 1;}#sk-579fed54-657b-48ca-ad92-eb2c7fcce215 div.sk-label:hover label.sk-toggleable__label {background-color: #d4ebff;}#sk-579fed54-657b-48ca-ad92-eb2c7fcce215 div.sk-serial::before {content: \"\";position: absolute;border-left: 1px solid gray;box-sizing: border-box;top: 2em;bottom: 0;left: 50%;}#sk-579fed54-657b-48ca-ad92-eb2c7fcce215 div.sk-serial {display: flex;flex-direction: column;align-items: center;background-color: white;padding-right: 0.2em;padding-left: 0.2em;}#sk-579fed54-657b-48ca-ad92-eb2c7fcce215 div.sk-item {z-index: 1;}#sk-579fed54-657b-48ca-ad92-eb2c7fcce215 div.sk-parallel {display: flex;align-items: stretch;justify-content: center;background-color: white;}#sk-579fed54-657b-48ca-ad92-eb2c7fcce215 div.sk-parallel::before {content: \"\";position: absolute;border-left: 1px solid gray;box-sizing: border-box;top: 2em;bottom: 0;left: 50%;}#sk-579fed54-657b-48ca-ad92-eb2c7fcce215 div.sk-parallel-item {display: flex;flex-direction: column;position: relative;background-color: white;}#sk-579fed54-657b-48ca-ad92-eb2c7fcce215 div.sk-parallel-item:first-child::after {align-self: flex-end;width: 50%;}#sk-579fed54-657b-48ca-ad92-eb2c7fcce215 div.sk-parallel-item:last-child::after {align-self: flex-start;width: 50%;}#sk-579fed54-657b-48ca-ad92-eb2c7fcce215 div.sk-parallel-item:only-child::after {width: 0;}#sk-579fed54-657b-48ca-ad92-eb2c7fcce215 div.sk-dashed-wrapped {border: 1px dashed gray;margin: 0 0.4em 0.5em 0.4em;box-sizing: border-box;padding-bottom: 0.4em;background-color: white;position: relative;}#sk-579fed54-657b-48ca-ad92-eb2c7fcce215 div.sk-label label {font-family: monospace;font-weight: bold;background-color: white;display: inline-block;line-height: 1.2em;}#sk-579fed54-657b-48ca-ad92-eb2c7fcce215 div.sk-label-container {position: relative;z-index: 2;text-align: center;}#sk-579fed54-657b-48ca-ad92-eb2c7fcce215 div.sk-container {/* jupyter's `normalize.less` sets `[hidden] { display: none; }` but bootstrap.min.css set `[hidden] { display: none !important; }` so we also need the `!important` here to be able to override the default hidden behavior on the sphinx rendered scikit-learn.org. See: https://github.com/scikit-learn/scikit-learn/issues/21755 */display: inline-block !important;position: relative;}#sk-579fed54-657b-48ca-ad92-eb2c7fcce215 div.sk-text-repr-fallback {display: none;}</style><div id=\"sk-579fed54-657b-48ca-ad92-eb2c7fcce215\" class=\"sk-top-container\"><div class=\"sk-text-repr-fallback\"><pre>Pipeline(steps=[(&#x27;columntransformer&#x27;,\n",
              "                 ColumnTransformer(remainder=&#x27;passthrough&#x27;,\n",
              "                                   transformers=[(&#x27;standardscaler&#x27;,\n",
              "                                                  StandardScaler(),\n",
              "                                                  &lt;sklearn.compose._column_transformer.make_column_selector object at 0x7f8de0a9ffd0&gt;),\n",
              "                                                 (&#x27;onehotencoder&#x27;,\n",
              "                                                  OneHotEncoder(handle_unknown=&#x27;ignore&#x27;,\n",
              "                                                                sparse=False),\n",
              "                                                  &lt;sklearn.compose._column_transformer.make_column_selector object at 0x7f8de0a9f650&gt;)])),\n",
              "                (&#x27;linearregression&#x27;, LinearRegression())])</pre><b>Please rerun this cell to show the HTML repr or trust the notebook.</b></div><div class=\"sk-container\" hidden><div class=\"sk-item sk-dashed-wrapped\"><div class=\"sk-label-container\"><div class=\"sk-label sk-toggleable\"><input class=\"sk-toggleable__control sk-hidden--visually\" id=\"97db48df-6466-4750-9ed6-4f478a008b3d\" type=\"checkbox\" ><label for=\"97db48df-6466-4750-9ed6-4f478a008b3d\" class=\"sk-toggleable__label sk-toggleable__label-arrow\">Pipeline</label><div class=\"sk-toggleable__content\"><pre>Pipeline(steps=[(&#x27;columntransformer&#x27;,\n",
              "                 ColumnTransformer(remainder=&#x27;passthrough&#x27;,\n",
              "                                   transformers=[(&#x27;standardscaler&#x27;,\n",
              "                                                  StandardScaler(),\n",
              "                                                  &lt;sklearn.compose._column_transformer.make_column_selector object at 0x7f8de0a9ffd0&gt;),\n",
              "                                                 (&#x27;onehotencoder&#x27;,\n",
              "                                                  OneHotEncoder(handle_unknown=&#x27;ignore&#x27;,\n",
              "                                                                sparse=False),\n",
              "                                                  &lt;sklearn.compose._column_transformer.make_column_selector object at 0x7f8de0a9f650&gt;)])),\n",
              "                (&#x27;linearregression&#x27;, LinearRegression())])</pre></div></div></div><div class=\"sk-serial\"><div class=\"sk-item sk-dashed-wrapped\"><div class=\"sk-label-container\"><div class=\"sk-label sk-toggleable\"><input class=\"sk-toggleable__control sk-hidden--visually\" id=\"2a362450-ba20-4464-b4ab-5338e7f42aeb\" type=\"checkbox\" ><label for=\"2a362450-ba20-4464-b4ab-5338e7f42aeb\" class=\"sk-toggleable__label sk-toggleable__label-arrow\">columntransformer: ColumnTransformer</label><div class=\"sk-toggleable__content\"><pre>ColumnTransformer(remainder=&#x27;passthrough&#x27;,\n",
              "                  transformers=[(&#x27;standardscaler&#x27;, StandardScaler(),\n",
              "                                 &lt;sklearn.compose._column_transformer.make_column_selector object at 0x7f8de0a9ffd0&gt;),\n",
              "                                (&#x27;onehotencoder&#x27;,\n",
              "                                 OneHotEncoder(handle_unknown=&#x27;ignore&#x27;,\n",
              "                                               sparse=False),\n",
              "                                 &lt;sklearn.compose._column_transformer.make_column_selector object at 0x7f8de0a9f650&gt;)])</pre></div></div></div><div class=\"sk-parallel\"><div class=\"sk-parallel-item\"><div class=\"sk-item\"><div class=\"sk-label-container\"><div class=\"sk-label sk-toggleable\"><input class=\"sk-toggleable__control sk-hidden--visually\" id=\"54836b50-1fce-410d-8d74-5248fc642ea9\" type=\"checkbox\" ><label for=\"54836b50-1fce-410d-8d74-5248fc642ea9\" class=\"sk-toggleable__label sk-toggleable__label-arrow\">standardscaler</label><div class=\"sk-toggleable__content\"><pre>&lt;sklearn.compose._column_transformer.make_column_selector object at 0x7f8de0a9ffd0&gt;</pre></div></div></div><div class=\"sk-serial\"><div class=\"sk-item\"><div class=\"sk-estimator sk-toggleable\"><input class=\"sk-toggleable__control sk-hidden--visually\" id=\"fac48d2b-614f-4d6e-a321-844d6b8276a7\" type=\"checkbox\" ><label for=\"fac48d2b-614f-4d6e-a321-844d6b8276a7\" class=\"sk-toggleable__label sk-toggleable__label-arrow\">StandardScaler</label><div class=\"sk-toggleable__content\"><pre>StandardScaler()</pre></div></div></div></div></div></div><div class=\"sk-parallel-item\"><div class=\"sk-item\"><div class=\"sk-label-container\"><div class=\"sk-label sk-toggleable\"><input class=\"sk-toggleable__control sk-hidden--visually\" id=\"751720a5-7695-4a2e-a590-1743cc0985e6\" type=\"checkbox\" ><label for=\"751720a5-7695-4a2e-a590-1743cc0985e6\" class=\"sk-toggleable__label sk-toggleable__label-arrow\">onehotencoder</label><div class=\"sk-toggleable__content\"><pre>&lt;sklearn.compose._column_transformer.make_column_selector object at 0x7f8de0a9f650&gt;</pre></div></div></div><div class=\"sk-serial\"><div class=\"sk-item\"><div class=\"sk-estimator sk-toggleable\"><input class=\"sk-toggleable__control sk-hidden--visually\" id=\"e360bfb6-f0d1-43a2-902a-e71375724db2\" type=\"checkbox\" ><label for=\"e360bfb6-f0d1-43a2-902a-e71375724db2\" class=\"sk-toggleable__label sk-toggleable__label-arrow\">OneHotEncoder</label><div class=\"sk-toggleable__content\"><pre>OneHotEncoder(handle_unknown=&#x27;ignore&#x27;, sparse=False)</pre></div></div></div></div></div></div><div class=\"sk-parallel-item\"><div class=\"sk-item\"><div class=\"sk-label-container\"><div class=\"sk-label sk-toggleable\"><input class=\"sk-toggleable__control sk-hidden--visually\" id=\"27af1efd-4331-411a-834a-7db0269a7ece\" type=\"checkbox\" ><label for=\"27af1efd-4331-411a-834a-7db0269a7ece\" class=\"sk-toggleable__label sk-toggleable__label-arrow\">remainder</label><div class=\"sk-toggleable__content\"><pre>[]</pre></div></div></div><div class=\"sk-serial\"><div class=\"sk-item\"><div class=\"sk-estimator sk-toggleable\"><input class=\"sk-toggleable__control sk-hidden--visually\" id=\"b66eb6e6-24d1-4e08-b7e3-b9e210e53f93\" type=\"checkbox\" ><label for=\"b66eb6e6-24d1-4e08-b7e3-b9e210e53f93\" class=\"sk-toggleable__label sk-toggleable__label-arrow\">passthrough</label><div class=\"sk-toggleable__content\"><pre>passthrough</pre></div></div></div></div></div></div></div></div><div class=\"sk-item\"><div class=\"sk-estimator sk-toggleable\"><input class=\"sk-toggleable__control sk-hidden--visually\" id=\"94210ab0-838a-4944-a331-8bde680df04c\" type=\"checkbox\" ><label for=\"94210ab0-838a-4944-a331-8bde680df04c\" class=\"sk-toggleable__label sk-toggleable__label-arrow\">LinearRegression</label><div class=\"sk-toggleable__content\"><pre>LinearRegression()</pre></div></div></div></div></div></div></div>"
            ]
          },
          "metadata": {},
          "execution_count": 35
        }
      ]
    },
    {
      "cell_type": "code",
      "source": [
        "print('Train Evaluation')\n",
        "\n",
        "eval_model(y_train, lin_reg.predict(X_train))\n",
        "\n",
        "print('\\n Test Evaluation')\n",
        "\n",
        "eval_model(y_test, lin_reg.predict(X_test))"
      ],
      "metadata": {
        "colab": {
          "base_uri": "https://localhost:8080/"
        },
        "id": "UDInNlz5CiSm",
        "outputId": "28171f05-6b5d-406d-da7c-6fd4a737ebbc"
      },
      "execution_count": null,
      "outputs": [
        {
          "output_type": "stream",
          "name": "stdout",
          "text": [
            "Train Evaluation\n",
            "MAE: 810.63 \n",
            " MSE: 1,202,379.95 \n",
            " RMSE: 1,096.53 \n",
            " R2: 0.47 \n",
            "\n",
            " Test Evaluation\n",
            "MAE: 783.12 \n",
            " MSE: 1,135,850.48 \n",
            " RMSE: 1,065.76 \n",
            " R2: 0.49 \n"
          ]
        }
      ]
    },
    {
      "cell_type": "markdown",
      "source": [
        "2) Your second task is to build a regression tree model to predict sales.\n",
        "\n",
        "Build a simple regression tree model. Compare the performance of your model based on r^2. Compare the performance of your model based on rmse."
      ],
      "metadata": {
        "id": "ISdp4687DRd4"
      }
    },
    {
      "cell_type": "code",
      "source": [
        "from sklearn.tree import DecisionTreeRegressor"
      ],
      "metadata": {
        "id": "FXAlT2KCDrgM"
      },
      "execution_count": null,
      "outputs": []
    },
    {
      "cell_type": "code",
      "source": [
        "dec_tree = DecisionTreeRegressor(random_state = 42)"
      ],
      "metadata": {
        "id": "6CQWanSnKWNO"
      },
      "execution_count": null,
      "outputs": []
    },
    {
      "cell_type": "code",
      "source": [
        "dec_tree.fit(X_train, y_train)"
      ],
      "metadata": {
        "colab": {
          "base_uri": "https://localhost:8080/",
          "height": 75
        },
        "id": "5TmhSLgJKy67",
        "outputId": "a7abfbbc-5616-4052-fb2c-74d0249d767d"
      },
      "execution_count": null,
      "outputs": [
        {
          "output_type": "execute_result",
          "data": {
            "text/plain": [
              "DecisionTreeRegressor(random_state=42)"
            ],
            "text/html": [
              "<style>#sk-ed577c42-643b-4c97-8e99-1657221da926 {color: black;background-color: white;}#sk-ed577c42-643b-4c97-8e99-1657221da926 pre{padding: 0;}#sk-ed577c42-643b-4c97-8e99-1657221da926 div.sk-toggleable {background-color: white;}#sk-ed577c42-643b-4c97-8e99-1657221da926 label.sk-toggleable__label {cursor: pointer;display: block;width: 100%;margin-bottom: 0;padding: 0.3em;box-sizing: border-box;text-align: center;}#sk-ed577c42-643b-4c97-8e99-1657221da926 label.sk-toggleable__label-arrow:before {content: \"▸\";float: left;margin-right: 0.25em;color: #696969;}#sk-ed577c42-643b-4c97-8e99-1657221da926 label.sk-toggleable__label-arrow:hover:before {color: black;}#sk-ed577c42-643b-4c97-8e99-1657221da926 div.sk-estimator:hover label.sk-toggleable__label-arrow:before {color: black;}#sk-ed577c42-643b-4c97-8e99-1657221da926 div.sk-toggleable__content {max-height: 0;max-width: 0;overflow: hidden;text-align: left;background-color: #f0f8ff;}#sk-ed577c42-643b-4c97-8e99-1657221da926 div.sk-toggleable__content pre {margin: 0.2em;color: black;border-radius: 0.25em;background-color: #f0f8ff;}#sk-ed577c42-643b-4c97-8e99-1657221da926 input.sk-toggleable__control:checked~div.sk-toggleable__content {max-height: 200px;max-width: 100%;overflow: auto;}#sk-ed577c42-643b-4c97-8e99-1657221da926 input.sk-toggleable__control:checked~label.sk-toggleable__label-arrow:before {content: \"▾\";}#sk-ed577c42-643b-4c97-8e99-1657221da926 div.sk-estimator input.sk-toggleable__control:checked~label.sk-toggleable__label {background-color: #d4ebff;}#sk-ed577c42-643b-4c97-8e99-1657221da926 div.sk-label input.sk-toggleable__control:checked~label.sk-toggleable__label {background-color: #d4ebff;}#sk-ed577c42-643b-4c97-8e99-1657221da926 input.sk-hidden--visually {border: 0;clip: rect(1px 1px 1px 1px);clip: rect(1px, 1px, 1px, 1px);height: 1px;margin: -1px;overflow: hidden;padding: 0;position: absolute;width: 1px;}#sk-ed577c42-643b-4c97-8e99-1657221da926 div.sk-estimator {font-family: monospace;background-color: #f0f8ff;border: 1px dotted black;border-radius: 0.25em;box-sizing: border-box;margin-bottom: 0.5em;}#sk-ed577c42-643b-4c97-8e99-1657221da926 div.sk-estimator:hover {background-color: #d4ebff;}#sk-ed577c42-643b-4c97-8e99-1657221da926 div.sk-parallel-item::after {content: \"\";width: 100%;border-bottom: 1px solid gray;flex-grow: 1;}#sk-ed577c42-643b-4c97-8e99-1657221da926 div.sk-label:hover label.sk-toggleable__label {background-color: #d4ebff;}#sk-ed577c42-643b-4c97-8e99-1657221da926 div.sk-serial::before {content: \"\";position: absolute;border-left: 1px solid gray;box-sizing: border-box;top: 2em;bottom: 0;left: 50%;}#sk-ed577c42-643b-4c97-8e99-1657221da926 div.sk-serial {display: flex;flex-direction: column;align-items: center;background-color: white;padding-right: 0.2em;padding-left: 0.2em;}#sk-ed577c42-643b-4c97-8e99-1657221da926 div.sk-item {z-index: 1;}#sk-ed577c42-643b-4c97-8e99-1657221da926 div.sk-parallel {display: flex;align-items: stretch;justify-content: center;background-color: white;}#sk-ed577c42-643b-4c97-8e99-1657221da926 div.sk-parallel::before {content: \"\";position: absolute;border-left: 1px solid gray;box-sizing: border-box;top: 2em;bottom: 0;left: 50%;}#sk-ed577c42-643b-4c97-8e99-1657221da926 div.sk-parallel-item {display: flex;flex-direction: column;position: relative;background-color: white;}#sk-ed577c42-643b-4c97-8e99-1657221da926 div.sk-parallel-item:first-child::after {align-self: flex-end;width: 50%;}#sk-ed577c42-643b-4c97-8e99-1657221da926 div.sk-parallel-item:last-child::after {align-self: flex-start;width: 50%;}#sk-ed577c42-643b-4c97-8e99-1657221da926 div.sk-parallel-item:only-child::after {width: 0;}#sk-ed577c42-643b-4c97-8e99-1657221da926 div.sk-dashed-wrapped {border: 1px dashed gray;margin: 0 0.4em 0.5em 0.4em;box-sizing: border-box;padding-bottom: 0.4em;background-color: white;position: relative;}#sk-ed577c42-643b-4c97-8e99-1657221da926 div.sk-label label {font-family: monospace;font-weight: bold;background-color: white;display: inline-block;line-height: 1.2em;}#sk-ed577c42-643b-4c97-8e99-1657221da926 div.sk-label-container {position: relative;z-index: 2;text-align: center;}#sk-ed577c42-643b-4c97-8e99-1657221da926 div.sk-container {/* jupyter's `normalize.less` sets `[hidden] { display: none; }` but bootstrap.min.css set `[hidden] { display: none !important; }` so we also need the `!important` here to be able to override the default hidden behavior on the sphinx rendered scikit-learn.org. See: https://github.com/scikit-learn/scikit-learn/issues/21755 */display: inline-block !important;position: relative;}#sk-ed577c42-643b-4c97-8e99-1657221da926 div.sk-text-repr-fallback {display: none;}</style><div id=\"sk-ed577c42-643b-4c97-8e99-1657221da926\" class=\"sk-top-container\"><div class=\"sk-text-repr-fallback\"><pre>DecisionTreeRegressor(random_state=42)</pre><b>Please rerun this cell to show the HTML repr or trust the notebook.</b></div><div class=\"sk-container\" hidden><div class=\"sk-item\"><div class=\"sk-estimator sk-toggleable\"><input class=\"sk-toggleable__control sk-hidden--visually\" id=\"1c1034ee-b70a-4764-be54-c7ccd52013f2\" type=\"checkbox\" checked><label for=\"1c1034ee-b70a-4764-be54-c7ccd52013f2\" class=\"sk-toggleable__label sk-toggleable__label-arrow\">DecisionTreeRegressor</label><div class=\"sk-toggleable__content\"><pre>DecisionTreeRegressor(random_state=42)</pre></div></div></div></div></div>"
            ]
          },
          "metadata": {},
          "execution_count": 39
        }
      ]
    },
    {
      "cell_type": "code",
      "source": [
        "train_preds = dec_tree.predict(X_train)\n",
        "test_preds = dec_tree.predict(X_test)\n"
      ],
      "metadata": {
        "id": "7Jcyv8k0WYBa"
      },
      "execution_count": null,
      "outputs": []
    },
    {
      "cell_type": "code",
      "source": [
        "# evaluate the model\n",
        "train_score = dec_tree.score(X_train, y_train)\n",
        "test_score = dec_tree.score(X_test, y_test)\n",
        "print('The train score is', train_score)\n",
        "print('The test score is',test_score)\n"
      ],
      "metadata": {
        "colab": {
          "base_uri": "https://localhost:8080/"
        },
        "id": "XPiT-IAuWbhM",
        "outputId": "5ae3f2d0-5a05-4d56-c148-88dece7fb025"
      },
      "execution_count": null,
      "outputs": [
        {
          "output_type": "stream",
          "name": "stdout",
          "text": [
            "The train score is 1.0\n",
            "The test score is -0.13001285710966148\n"
          ]
        }
      ]
    },
    {
      "cell_type": "code",
      "source": [
        "# Looking at options for tuning this model\n",
        "dec_tree.get_params()\n"
      ],
      "metadata": {
        "colab": {
          "base_uri": "https://localhost:8080/"
        },
        "id": "qrpnHbQiWtGt",
        "outputId": "df868cd8-5499-4851-d20a-3138a7bd4b6f"
      },
      "execution_count": null,
      "outputs": [
        {
          "output_type": "execute_result",
          "data": {
            "text/plain": [
              "{'ccp_alpha': 0.0,\n",
              " 'criterion': 'squared_error',\n",
              " 'max_depth': None,\n",
              " 'max_features': None,\n",
              " 'max_leaf_nodes': None,\n",
              " 'min_impurity_decrease': 0.0,\n",
              " 'min_samples_leaf': 1,\n",
              " 'min_samples_split': 2,\n",
              " 'min_weight_fraction_leaf': 0.0,\n",
              " 'random_state': 42,\n",
              " 'splitter': 'best'}"
            ]
          },
          "metadata": {},
          "execution_count": 42
        }
      ]
    },
    {
      "cell_type": "code",
      "source": [
        "# What was the depth of our default tree?\n",
        "dec_tree.get_depth()\n"
      ],
      "metadata": {
        "colab": {
          "base_uri": "https://localhost:8080/"
        },
        "id": "E9pV0BP2Wyc3",
        "outputId": "ec2c23e0-ba93-467a-9c82-413f07ae4447"
      },
      "execution_count": null,
      "outputs": [
        {
          "output_type": "execute_result",
          "data": {
            "text/plain": [
              "26"
            ]
          },
          "metadata": {},
          "execution_count": 43
        }
      ]
    },
    {
      "cell_type": "code",
      "source": [
        "# List of values to try for max_depth:\n",
        "max_depth_range = list(range(2, 36)) # will try every value between 2 and 36\n",
        "# List to store the score for each value of max_depth:\n",
        "r2 = []\n",
        "for depth in max_depth_range:\n",
        "    dec_tree = DecisionTreeRegressor(max_depth = depth, \n",
        "                             random_state = 42)\n",
        "    dec_tree.fit(X_train, y_train)\n",
        "    score = dec_tree.score(X_test, y_test)\n",
        "    r2.append(score)\n",
        "\n",
        "# Visualize which max_depth leads to the highest r2 score\n",
        "import matplotlib.pyplot as plt\n",
        "plt.plot(max_depth_range, r2)\n",
        "plt.xlabel('max_depth')\n",
        "plt.ylabel('R2');\n",
        "\n",
        "\n"
      ],
      "metadata": {
        "colab": {
          "base_uri": "https://localhost:8080/",
          "height": 280
        },
        "id": "ZY0u0KyeW12l",
        "outputId": "bb3e669b-ddcc-48e1-ef8c-89d092a5590f"
      },
      "execution_count": null,
      "outputs": [
        {
          "output_type": "display_data",
          "data": {
            "text/plain": [
              "<Figure size 432x288 with 1 Axes>"
            ],
            "image/png": "[encoded data removed]"
          },
          "metadata": {
            "needs_background": "light"
          }
        }
      ]
    },
    {
      "cell_type": "markdown",
      "source": [
        "From the plot above it looks like the best score for the model is when the parameter max depth is 3."
      ],
      "metadata": {
        "id": "bvzcNnu4XO1W"
      }
    },
    {
      "cell_type": "code",
      "source": [
        "# Let's run the model with our optimized value for max_depth\n",
        "dec_tree_3 = DecisionTreeRegressor(max_depth = 3, random_state = 42)\n",
        "dec_tree_3.fit(X_train, y_train)\n",
        "train_3_score = dec_tree_3.score(X_train, y_train)\n",
        "test_3_score = dec_tree_3.score(X_test, y_test)\n",
        "print(train_3_score)\n",
        "print(test_3_score)\n"
      ],
      "metadata": {
        "colab": {
          "base_uri": "https://localhost:8080/"
        },
        "id": "0u2XOcAGXOS7",
        "outputId": "8f9519a7-af48-4212-f831-0201aaf5d53f"
      },
      "execution_count": null,
      "outputs": [
        {
          "output_type": "stream",
          "name": "stdout",
          "text": [
            "0.45763621802151966\n",
            "0.4616873214411812\n"
          ]
        }
      ]
    },
    {
      "cell_type": "markdown",
      "source": [
        "3) You now have tried 2 different models on your data set. You need to determine which model to implement.\n",
        "\n",
        "Overall, which model do you recommend? Justify your recommendation. 4) To finalize this project, you need to prepare an executive (non-technical) presentation about your project."
      ],
      "metadata": {
        "id": "nf9H8KyuDUCf"
      }
    },
    {
      "cell_type": "markdown",
      "source": [
        "The linnear regression model is a good fit because the bias/variance are not too far off as well as it is as close as we can get to 50% and to the original model.\n"
      ],
      "metadata": {
        "id": "ZWm6V0VBb8Bm"
      }
    },
    {
      "cell_type": "markdown",
      "source": [
        "#visualizations"
      ],
      "metadata": {
        "id": "Yq1b3JEBeT08"
      }
    },
    {
      "cell_type": "code",
      "source": [
        "numberuniqueyr = df.groupby(['Outlet_Establishment_Year'])['Item_Outlet_Sales'].nunique()\n",
        "uniqueyr = list(numberuniqueyr.index)\n",
        "numbersales_yr = list(numberuniqueyr.values)\n",
        "\n",
        "plt.style.use('seaborn')\n",
        "plt.plot(uniqueyr, numbersales_yr, c='green', marker = 'o')\n",
        "plt.xlabel('Establishment Year', fontsize = 10)\n",
        "plt.ylabel('Sales', fontsize = 10)\n",
        "plt.title('How Sales Have Changed Over Time)', fontsize = 18)"
      ],
      "metadata": {
        "colab": {
          "base_uri": "https://localhost:8080/",
          "height": 397
        },
        "id": "jeqTHE-JeTCL",
        "outputId": "deb5b4bf-4d80-4a65-a6b8-d0fd6cd81e09"
      },
      "execution_count": null,
      "outputs": [
        {
          "output_type": "execute_result",
          "data": {
            "text/plain": [
              "Text(0.5, 1.0, 'How Sales Have Changed Over Time)')"
            ]
          },
          "metadata": {},
          "execution_count": 46
        },
        {
          "output_type": "display_data",
          "data": {
            "text/plain": [
              "<Figure size 576x396 with 1 Axes>"
            ],
            "image/png": "[encoded data removed]"
          },
          "metadata": {}
        }
      ]
    },
    {
      "cell_type": "code",
      "source": [
        "import seaborn as sns\n",
        "\n",
        "sns.barplot(data=df, x='Outlet_Type', y = 'Item_Outlet_Sales')\n",
        "plt.xticks(rotation = 45, ha = 'right')\n",
        "plt.title('Outlet Type vs Sales', fontsize = 18)\n"
      ],
      "metadata": {
        "colab": {
          "base_uri": "https://localhost:8080/",
          "height": 398
        },
        "id": "s6LCHMnmexTl",
        "outputId": "c301a3e3-8d31-4f94-8da1-419b107b6bc4"
      },
      "execution_count": null,
      "outputs": [
        {
          "output_type": "execute_result",
          "data": {
            "text/plain": [
              "Text(0.5, 1.0, 'Outlet Type vs Sales')"
            ]
          },
          "metadata": {},
          "execution_count": 48
        },
        {
          "output_type": "display_data",
          "data": {
            "text/plain": [
              "<Figure size 576x396 with 1 Axes>"
            ],
            "image/png": "[encoded data removed]"
          },
          "metadata": {}
        }
      ]
    },
    {
      "cell_type": "code",
      "source": [
        "sns.barplot(data=df, x='Item_Type', y = 'Item_Outlet_Sales')\n",
        "plt.xticks(rotation = 45, ha = 'right')\n",
        "plt.title('Sales Based On Item Type', fontsize = 18)"
      ],
      "metadata": {
        "colab": {
          "base_uri": "https://localhost:8080/",
          "height": 402
        },
        "id": "6xAEoGUFe4qd",
        "outputId": "b1b74e8e-1733-47d7-845a-d03d8cb820f8"
      },
      "execution_count": null,
      "outputs": [
        {
          "output_type": "execute_result",
          "data": {
            "text/plain": [
              "Text(0.5, 1.0, 'Sales Based On Item Type')"
            ]
          },
          "metadata": {},
          "execution_count": 49
        },
        {
          "output_type": "display_data",
          "data": {
            "text/plain": [
              "<Figure size 576x396 with 1 Axes>"
            ],
            "image/png": "[encoded data removed]"
          },
          "metadata": {}
        }
      ]
    },
    {
      "cell_type": "code",
      "source": [
        "sns.barplot(data=df, x='Item_Fat_Content', y = 'Item_Outlet_Sales')\n",
        "plt.xticks(rotation = 45, ha = 'right')\n",
        "plt.title('Sales Based On Item Fat Content', fontsize = 18)"
      ],
      "metadata": {
        "colab": {
          "base_uri": "https://localhost:8080/",
          "height": 398
        },
        "id": "Q8eDwSD4fC4O",
        "outputId": "b2b58b16-e094-45f7-e77f-cea957317155"
      },
      "execution_count": null,
      "outputs": [
        {
          "output_type": "execute_result",
          "data": {
            "text/plain": [
              "Text(0.5, 1.0, 'Sales Based On Item Fat Content')"
            ]
          },
          "metadata": {},
          "execution_count": 50
        },
        {
          "output_type": "display_data",
          "data": {
            "text/plain": [
              "<Figure size 576x396 with 1 Axes>"
            ],
            "image/png": "[encoded data removed]"
          },
          "metadata": {}
        }
      ]
    },
    {
      "cell_type": "markdown",
      "source": [
        "https://docs.google.com/presentation/d/1QjZZam7q0WXsBSF96xHxEBmhuRPpBSZU/edit?usp=sharing&ouid=114921905489288547532&rtpof=true&sd=true\n"
      ],
      "metadata": {
        "id": "8JDYpandmYER"
      }
    }
  ]
}